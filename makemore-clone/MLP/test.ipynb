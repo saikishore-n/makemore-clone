{
 "cells": [
  {
   "cell_type": "code",
   "execution_count": 1,
   "metadata": {},
   "outputs": [],
   "source": [
    "import torch\n",
    "import pickle"
   ]
  },
  {
   "cell_type": "code",
   "execution_count": 2,
   "metadata": {},
   "outputs": [],
   "source": [
    "W1 = torch.load('W1.pt')\n",
    "W2 = torch.load('W2.pt')\n",
    "b1 = torch.load('b1.pt')\n",
    "b2 = torch.load('b2.pt')\n",
    "C = torch.load('C.pt')\n",
    "chars = pickle.load(open('chars.pkl', 'rb'))\n",
    "char_index = pickle.load(open('char_index.pkl', 'rb'))"
   ]
  },
  {
   "cell_type": "code",
   "execution_count": 3,
   "metadata": {},
   "outputs": [],
   "source": [
    "def next_char(prev_3):\n",
    "    prev_3 = torch.tensor(prev_3)\n",
    "    emb = C[prev_3]\n",
    "    probs = torch.softmax(torch.tanh(emb.reshape(-1,15) @ W1 + b1) @ W2 + b2, dim=1) \n",
    "    return chars[torch.multinomial(probs, 1).item()]\n",
    "def get_name():\n",
    "    name = ''\n",
    "    prev_3 = [0,0,0]\n",
    "    next = next_char(prev_3)\n",
    "    while next != '!':\n",
    "        name += next\n",
    "        prev_3 = prev_3[1:] + [char_index[next]]\n",
    "        next = next_char(prev_3)\n",
    "    return name"
   ]
  },
  {
   "cell_type": "code",
   "execution_count": 4,
   "metadata": {},
   "outputs": [
    {
     "name": "stdout",
     "output_type": "stream",
     "text": [
      "nirushani\n",
      "venta\n",
      "akashimilaiga\n",
      "afshmithaya\n",
      "mna\n",
      "aythashantha\n",
      "matheey\n",
      "varilaya\n",
      "kavindalva\n",
      "hat\n",
      "ashnusha\n",
      "suealopika\n",
      "dajen\n",
      "vedavilan\n",
      "indavnesh\n",
      "bayi\n",
      "ean\n",
      "rukshneeleasha\n",
      "dhu\n",
      "varshivaya\n",
      "yagitha\n",
      "zhvini\n",
      "manji\n",
      "chini\n",
      "geelan\n",
      "priya\n",
      "harashvega\n",
      "van\n",
      "vidnah\n",
      "medaivithra\n",
      "yogan\n",
      "vargavab\n",
      "anukkas\n",
      "gusha\n",
      "rukeethoosh\n",
      "murendaratharin\n",
      "ellan\n",
      "nithagarvinusha\n",
      "japri\n",
      "pravi\n",
      "nathapriyasa\n",
      "thesi\n",
      "aamisayna\n",
      "mau\n",
      "nirasith\n",
      "sanka\n",
      "athubhsi\n",
      "prag\n",
      "annilesha\n",
      "chardi\n"
     ]
    }
   ],
   "source": [
    "for i in range(50):\n",
    "    print(get_name())"
   ]
  },
  {
   "cell_type": "code",
   "execution_count": 5,
   "metadata": {},
   "outputs": [],
   "source": [
    "def get_normalised_negative_log_likelihood(word):\n",
    "    prev_3 = [0,0,0]\n",
    "    nll = 0\n",
    "    for c in word:\n",
    "        emb = C[prev_3]\n",
    "        probs = torch.softmax(torch.tanh(emb.reshape(-1,15) @ W1 + b1) @ W2 + b2, dim=1) \n",
    "        nll += -torch.log(probs[:,char_index[c]])\n",
    "        prev_3 = prev_3[1:] + [char_index[c]]\n",
    "    return nll / len(word)"
   ]
  },
  {
   "cell_type": "code",
   "execution_count": 6,
   "metadata": {},
   "outputs": [
    {
     "data": {
      "text/plain": [
       "tensor([1.8789], grad_fn=<DivBackward0>)"
      ]
     },
     "execution_count": 6,
     "metadata": {},
     "output_type": "execute_result"
    }
   ],
   "source": [
    "get_normalised_negative_log_likelihood('arjun')"
   ]
  },
  {
   "cell_type": "code",
   "execution_count": null,
   "metadata": {},
   "outputs": [],
   "source": []
  }
 ],
 "metadata": {
  "kernelspec": {
   "display_name": "base",
   "language": "python",
   "name": "python3"
  },
  "language_info": {
   "codemirror_mode": {
    "name": "ipython",
    "version": 3
   },
   "file_extension": ".py",
   "mimetype": "text/x-python",
   "name": "python",
   "nbconvert_exporter": "python",
   "pygments_lexer": "ipython3",
   "version": "3.9.13"
  },
  "orig_nbformat": 4,
  "vscode": {
   "interpreter": {
    "hash": "11f35b3a2c2f9db604914e925818b5f3881c103430a3a0a48ead856bc8f67805"
   }
  }
 },
 "nbformat": 4,
 "nbformat_minor": 2
}
