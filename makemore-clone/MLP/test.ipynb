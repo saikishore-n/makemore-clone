{
 "cells": [
  {
   "cell_type": "code",
   "execution_count": 1,
   "metadata": {},
   "outputs": [],
   "source": [
    "import torch\n",
    "import pickle"
   ]
  },
  {
   "cell_type": "code",
   "execution_count": 2,
   "metadata": {},
   "outputs": [],
   "source": [
    "W1 = torch.load('W1.pt')\n",
    "W2 = torch.load('W2.pt')\n",
    "b1 = torch.load('b1.pt')\n",
    "b2 = torch.load('b2.pt')\n",
    "C = torch.load('C.pt')\n",
    "chars = pickle.load(open('chars.pkl', 'rb'))\n",
    "char_index = pickle.load(open('char_index.pkl', 'rb'))"
   ]
  },
  {
   "cell_type": "code",
   "execution_count": 3,
   "metadata": {},
   "outputs": [],
   "source": [
    "def next_char(prev_3):\n",
    "    prev_3 = torch.tensor(prev_3)\n",
    "    emb = C[prev_3]\n",
    "    probs = torch.softmax(torch.tanh(emb.reshape(-1,15) @ W1 + b1) @ W2 + b2, dim=1) \n",
    "    return chars[torch.multinomial(probs, 1).item()]\n",
    "def get_name():\n",
    "    name = ''\n",
    "    prev_3 = [0,0,0]\n",
    "    next = next_char(prev_3)\n",
    "    while next != '!':\n",
    "        name += next\n",
    "        prev_3 = prev_3[1:] + [char_index[next]]\n",
    "        next = next_char(prev_3)\n",
    "    return name"
   ]
  },
  {
   "cell_type": "code",
   "execution_count": 4,
   "metadata": {},
   "outputs": [
    {
     "name": "stdout",
     "output_type": "stream",
     "text": [
      "sari\n",
      "irkharan\n",
      "tai\n",
      "dev\n",
      "jasmigipaahurigai\n",
      "theeya\n",
      "neahila\n",
      "kan\n",
      "arunan\n",
      "vailoomha\n",
      "maina\n",
      "poorathiru\n",
      "maitholi\n",
      "hini\n",
      "surravir\n",
      "kavarajeevnathini\n",
      "viran\n",
      "eetha\n",
      "arshi\n",
      "vigohinya\n",
      "nan\n",
      "akash\n",
      "mendranchethishanthil\n",
      "methrassithi\n",
      "dinu\n",
      "mirukan\n",
      "hari\n",
      "moniyoneshnatham\n",
      "vana\n",
      "thobshi\n",
      "sadi\n",
      "dasan\n",
      "yavarshithadeeptha\n",
      "malavyasha\n",
      "samthan\n",
      "vathu\n",
      "mithan\n",
      "dealurunya\n",
      "vadalsan\n",
      "shaan\n",
      "san\n",
      "veertha\n",
      "kayanthaayen\n",
      "ceneeha\n",
      "iventh\n",
      "mahan\n",
      "anan\n",
      "theebkasha\n",
      "shana\n",
      "math\n"
     ]
    }
   ],
   "source": [
    "for i in range(50):\n",
    "    print(get_name())"
   ]
  },
  {
   "cell_type": "code",
   "execution_count": 5,
   "metadata": {},
   "outputs": [],
   "source": [
    "def get_normalised_negative_log_likelihood(word):\n",
    "    prev_3 = [0,0,0]\n",
    "    nll = 0\n",
    "    for c in word:\n",
    "        emb = C[prev_3]\n",
    "        probs = torch.softmax(torch.tanh(emb.reshape(-1,15) @ W1 + b1) @ W2 + b2, dim=1) \n",
    "        nll += -torch.log(probs[:,char_index[c]])\n",
    "        prev_3 = prev_3[1:] + [char_index[c]]\n",
    "    return nll / len(word)"
   ]
  },
  {
   "cell_type": "code",
   "execution_count": 7,
   "metadata": {},
   "outputs": [
    {
     "data": {
      "text/plain": [
       "(tensor([1.8789], grad_fn=<DivBackward0>),\n",
       " tensor([3.8212], grad_fn=<DivBackward0>))"
      ]
     },
     "execution_count": 7,
     "metadata": {},
     "output_type": "execute_result"
    }
   ],
   "source": [
    "get_normalised_negative_log_likelihood('arjun'), get_normalised_negative_log_likelihood('steve')"
   ]
  },
  {
   "cell_type": "code",
   "execution_count": null,
   "metadata": {},
   "outputs": [],
   "source": []
  }
 ],
 "metadata": {
  "kernelspec": {
   "display_name": "base",
   "language": "python",
   "name": "python3"
  },
  "language_info": {
   "codemirror_mode": {
    "name": "ipython",
    "version": 3
   },
   "file_extension": ".py",
   "mimetype": "text/x-python",
   "name": "python",
   "nbconvert_exporter": "python",
   "pygments_lexer": "ipython3",
   "version": "3.9.13 (main, Aug 25 2022, 23:51:50) [MSC v.1916 64 bit (AMD64)]"
  },
  "orig_nbformat": 4,
  "vscode": {
   "interpreter": {
    "hash": "11f35b3a2c2f9db604914e925818b5f3881c103430a3a0a48ead856bc8f67805"
   }
  }
 },
 "nbformat": 4,
 "nbformat_minor": 2
}
