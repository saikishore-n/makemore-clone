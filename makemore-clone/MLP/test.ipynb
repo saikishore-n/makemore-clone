{
 "cells": [
  {
   "cell_type": "code",
   "execution_count": 29,
   "metadata": {},
   "outputs": [],
   "source": [
    "import torch\n",
    "import pickle"
   ]
  },
  {
   "cell_type": "code",
   "execution_count": 30,
   "metadata": {},
   "outputs": [],
   "source": [
    "W1 = torch.load('W1.pt')\n",
    "W2 = torch.load('W2.pt')\n",
    "b1 = torch.load('b1.pt')\n",
    "b2 = torch.load('b2.pt')\n",
    "C = torch.load('C.pt')\n",
    "chars = pickle.load(open('chars.pkl', 'rb'))\n",
    "char_index = pickle.load(open('char_index.pkl', 'rb'))"
   ]
  },
  {
   "cell_type": "code",
   "execution_count": 33,
   "metadata": {},
   "outputs": [],
   "source": [
    "def next_char(prev_3):\n",
    "    prev_3 = torch.tensor(prev_3)\n",
    "    emb = C[prev_3]\n",
    "    probs = torch.softmax(torch.tanh(emb.reshape(-1,15) @ W1 + b1) @ W2 + b2, dim=1) \n",
    "    return chars[torch.multinomial(probs, 1).item()]\n",
    "def get_name():\n",
    "    name = ''\n",
    "    prev_3 = [0,0,0]\n",
    "    next = next_char(prev_3)\n",
    "    while next != '!':\n",
    "        name += next\n",
    "        prev_3 = prev_3[1:] + [char_index[next]]\n",
    "        next = next_char(prev_3)\n",
    "    return name"
   ]
  },
  {
   "cell_type": "code",
   "execution_count": 38,
   "metadata": {},
   "outputs": [
    {
     "name": "stdout",
     "output_type": "stream",
     "text": [
      "ana\n",
      "krishi\n",
      "hree\n",
      "rahunder\n",
      "kirv\n",
      "kant\n",
      "harmaohanav\n",
      "yan\n",
      "sri\n",
      "pratheragaa\n",
      "eaila\n",
      "elli\n",
      "vishaewik\n",
      "ayan\n",
      "acmisa\n",
      "abini\n",
      "clithtorh\n",
      "yaja\n",
      "yaalunam\n",
      "sarenyuvany\n",
      "sri\n",
      "nagasurathapakshmith\n",
      "jot\n",
      "satesitvika\n",
      "makila\n",
      "yarsha\n",
      "rath\n",
      "thik\n",
      "jathi\n",
      "athyangoty\n",
      "meen\n",
      "jenithusarmathishandra\n",
      "umar\n",
      "arunagaa\n",
      "vij\n",
      "rukikash\n",
      "rithi\n",
      "neeth\n",
      "ilsan\n",
      "muhayalkavi\n",
      "vini\n",
      "vedthapswvi\n",
      "yadan\n",
      "meen\n",
      "kaum\n",
      "vigachi\n",
      "guna\n",
      "raj\n",
      "yasriya\n",
      "raadythishvitharshithashree\n"
     ]
    }
   ],
   "source": [
    "for i in range(50):\n",
    "    print(get_name())"
   ]
  },
  {
   "cell_type": "code",
   "execution_count": 47,
   "metadata": {},
   "outputs": [],
   "source": [
    "def get_normalised_negative_log_likelihood(word):\n",
    "    prev_3 = [0,0,0]\n",
    "    nll = 0\n",
    "    for c in word:\n",
    "        emb = C[prev_3]\n",
    "        probs = torch.softmax(torch.tanh(emb.reshape(-1,15) @ W1 + b1) @ W2 + b2, dim=1) \n",
    "        nll += -torch.log(probs[:,char_index[c]])\n",
    "        prev_3 = prev_3[1:] + [char_index[c]]\n",
    "    return nll / len(word)"
   ]
  },
  {
   "cell_type": "code",
   "execution_count": 70,
   "metadata": {},
   "outputs": [
    {
     "data": {
      "text/plain": [
       "tensor([1.9322], grad_fn=<DivBackward0>)"
      ]
     },
     "execution_count": 70,
     "metadata": {},
     "output_type": "execute_result"
    }
   ],
   "source": [
    "get_normalised_negative_log_likelihood('arjun')"
   ]
  },
  {
   "cell_type": "code",
   "execution_count": null,
   "metadata": {},
   "outputs": [],
   "source": []
  }
 ],
 "metadata": {
  "kernelspec": {
   "display_name": "base",
   "language": "python",
   "name": "python3"
  },
  "language_info": {
   "codemirror_mode": {
    "name": "ipython",
    "version": 3
   },
   "file_extension": ".py",
   "mimetype": "text/x-python",
   "name": "python",
   "nbconvert_exporter": "python",
   "pygments_lexer": "ipython3",
   "version": "3.9.13"
  },
  "orig_nbformat": 4,
  "vscode": {
   "interpreter": {
    "hash": "11f35b3a2c2f9db604914e925818b5f3881c103430a3a0a48ead856bc8f67805"
   }
  }
 },
 "nbformat": 4,
 "nbformat_minor": 2
}
