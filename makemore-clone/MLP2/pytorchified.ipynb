{
 "cells": [
  {
   "cell_type": "code",
   "execution_count": 153,
   "metadata": {},
   "outputs": [],
   "source": [
    "import torch\n",
    "import torch.nn.functional as F\n",
    "import matplotlib.pyplot as plt\n",
    "import numpy as np\n",
    "%matplotlib inline"
   ]
  },
  {
   "cell_type": "code",
   "execution_count": 154,
   "metadata": {},
   "outputs": [],
   "source": [
    "with open(\"../Names.txt\", 'r') as f:\n",
    "    names = f.read().split('\\n')"
   ]
  },
  {
   "cell_type": "code",
   "execution_count": 155,
   "metadata": {},
   "outputs": [
    {
     "data": {
      "text/plain": [
       "55692"
      ]
     },
     "execution_count": 155,
     "metadata": {},
     "output_type": "execute_result"
    }
   ],
   "source": [
    "len(names)"
   ]
  },
  {
   "cell_type": "code",
   "execution_count": 156,
   "metadata": {},
   "outputs": [
    {
     "name": "stdout",
     "output_type": "stream",
     "text": [
      "[' ' '-' '.' 'A' 'B' 'C' 'D' 'E' 'F' 'G' 'H' 'I' 'J' 'K' 'L' 'M' 'N' 'O'\n",
      " 'P' 'Q' 'R' 'S' 'T' 'U' 'V' 'W' 'X' 'Y' 'Z' 'a' 'b' 'c' 'd' 'e' 'f' 'g'\n",
      " 'h' 'i' 'j' 'k' 'l' 'm' 'n' 'o' 'p' 'q' 'r' 's' 't' 'u' 'v' 'w' 'x' 'y'\n",
      " 'z']\n"
     ]
    }
   ],
   "source": [
    "print(np.unique(list(''.join(names))))"
   ]
  },
  {
   "cell_type": "code",
   "execution_count": 157,
   "metadata": {},
   "outputs": [],
   "source": [
    "stopchars = [\" \",\"-\",\".\"]"
   ]
  },
  {
   "cell_type": "code",
   "execution_count": 158,
   "metadata": {},
   "outputs": [],
   "source": [
    "names = [name.lower() for name in names if not any(char in stopchars for char in name)]"
   ]
  },
  {
   "cell_type": "code",
   "execution_count": 159,
   "metadata": {},
   "outputs": [],
   "source": [
    "chars = np.unique(['!']+list(''.join(names)))"
   ]
  },
  {
   "cell_type": "code",
   "execution_count": 160,
   "metadata": {},
   "outputs": [],
   "source": [
    "char_index = dict()\n",
    "for char in chars:\n",
    "    char_index[char] = len(char_index)"
   ]
  },
  {
   "cell_type": "code",
   "execution_count": 161,
   "metadata": {},
   "outputs": [],
   "source": [
    "window_length = 8\n",
    "Xs,ys = [],[]\n",
    "for name in names:\n",
    "    window = [0]*window_length\n",
    "    for c in name+'!':\n",
    "        Xs.append(window)\n",
    "        ys.append(char_index[c])\n",
    "        window = window[1:]+[char_index[c]]"
   ]
  },
  {
   "cell_type": "code",
   "execution_count": 162,
   "metadata": {},
   "outputs": [],
   "source": [
    "device = \"cuda\" if torch.cuda.is_available() else \"cpu\""
   ]
  },
  {
   "cell_type": "code",
   "execution_count": 163,
   "metadata": {},
   "outputs": [],
   "source": [
    "Xs = torch.tensor(Xs, dtype=torch.long, device=device)\n",
    "ys = torch.tensor(ys, dtype=torch.long, device=device)"
   ]
  },
  {
   "cell_type": "code",
   "execution_count": 164,
   "metadata": {},
   "outputs": [
    {
     "name": "stdout",
     "output_type": "stream",
     "text": [
      "['!' '!' '!' '!' '!' '!' '!' '!'] a\n",
      "['!' '!' '!' '!' '!' '!' '!' 'a'] a\n",
      "['!' '!' '!' '!' '!' '!' 'a' 'a'] b\n",
      "['!' '!' '!' '!' '!' 'a' 'a' 'b'] a\n",
      "['!' '!' '!' '!' 'a' 'a' 'b' 'a'] n\n",
      "['!' '!' '!' 'a' 'a' 'b' 'a' 'n'] !\n",
      "['!' '!' '!' '!' '!' '!' '!' '!'] a\n",
      "['!' '!' '!' '!' '!' '!' '!' 'a'] a\n",
      "['!' '!' '!' '!' '!' '!' 'a' 'a'] b\n",
      "['!' '!' '!' '!' '!' 'a' 'a' 'b'] h\n",
      "['!' '!' '!' '!' 'a' 'a' 'b' 'h'] a\n",
      "['!' '!' '!' 'a' 'a' 'b' 'h' 'a'] r\n",
      "['!' '!' 'a' 'a' 'b' 'h' 'a' 'r'] a\n",
      "['!' 'a' 'a' 'b' 'h' 'a' 'r' 'a'] n\n",
      "['a' 'a' 'b' 'h' 'a' 'r' 'a' 'n'] !\n",
      "['!' '!' '!' '!' '!' '!' '!' '!'] a\n",
      "['!' '!' '!' '!' '!' '!' '!' 'a'] a\n",
      "['!' '!' '!' '!' '!' '!' 'a' 'a'] b\n",
      "['!' '!' '!' '!' '!' 'a' 'a' 'b'] h\n",
      "['!' '!' '!' '!' 'a' 'a' 'b' 'h'] a\n",
      "['!' '!' '!' 'a' 'a' 'b' 'h' 'a'] s\n",
      "['!' '!' 'a' 'a' 'b' 'h' 'a' 's'] !\n",
      "['!' '!' '!' '!' '!' '!' '!' '!'] a\n",
      "['!' '!' '!' '!' '!' '!' '!' 'a'] a\n",
      "['!' '!' '!' '!' '!' '!' 'a' 'a'] b\n",
      "['!' '!' '!' '!' '!' 'a' 'a' 'b'] h\n",
      "['!' '!' '!' '!' 'a' 'a' 'b' 'h'] a\n",
      "['!' '!' '!' 'a' 'a' 'b' 'h' 'a'] t\n",
      "['!' '!' 'a' 'a' 'b' 'h' 'a' 't'] !\n",
      "['!' '!' '!' '!' '!' '!' '!' '!'] a\n"
     ]
    }
   ],
   "source": [
    "for i in range(30):\n",
    "    print(chars[Xs[i].cpu()], chars[ys[i].cpu()])"
   ]
  },
  {
   "cell_type": "code",
   "execution_count": 165,
   "metadata": {},
   "outputs": [
    {
     "data": {
      "text/plain": [
       "(torch.Size([494648, 8]), torch.int64, torch.Size([494648]), torch.int64)"
      ]
     },
     "execution_count": 165,
     "metadata": {},
     "output_type": "execute_result"
    }
   ],
   "source": [
    "Xs.shape, Xs.dtype, ys.shape, ys.dtype"
   ]
  },
  {
   "cell_type": "code",
   "execution_count": 166,
   "metadata": {},
   "outputs": [],
   "source": [
    "class Linear():\n",
    "    def __init__(self, nins, nouts, bias=True, device=\"cpu\"):\n",
    "        self.weight = torch.randn((nins, nouts), device=device) / nins**0.5\n",
    "        self.bias = torch.zeros(nouts, device=device) if bias else None\n",
    "    def __call__(self,X):\n",
    "        out = X @ self.weight\n",
    "        if self.bias is not None:\n",
    "            out += self.bias\n",
    "        return out\n",
    "    def parameters(self):\n",
    "        return [self.weight] + ([self.bias] if self.bias is not None else [])\n",
    "\n",
    "class BatchNorm1d():\n",
    "    def __init__(self, dim, device=\"cpu\", training=True):\n",
    "        self.gamma = torch.ones((1,dim), device=device)\n",
    "        self.beta = torch.zeros((1,dim), device=device)\n",
    "        self.running_mean = torch.zeros((1,dim), device=device)\n",
    "        self.running_var = torch.ones((1,dim), device=device)\n",
    "        self.training=training\n",
    "    def __call__(self, X):\n",
    "        if self.training:\n",
    "            mean = X.mean(0, keepdim=True)\n",
    "            var = X.var(0, keepdim=True)\n",
    "            self.running_mean = 0.999 * self.running_mean + 0.001 * mean\n",
    "            self.running_var = 0.999 * self.running_var + 0.001 * var\n",
    "        else:\n",
    "            mean = self.running_mean\n",
    "            var = self.running_var\n",
    "        return self.gamma * (X - mean) / (var)**0.5 + self.beta\n",
    "    def setTraining(self, training):\n",
    "        self.training=training\n",
    "    def parameters(self):\n",
    "        return [self.gamma, self.beta]"
   ]
  },
  {
   "cell_type": "code",
   "execution_count": 167,
   "metadata": {},
   "outputs": [
    {
     "name": "stdout",
     "output_type": "stream",
     "text": [
      "15332\n"
     ]
    }
   ],
   "source": [
    "embedding_dim = 15\n",
    "hidden_layer = 100\n",
    "l = window_length*embedding_dim\n",
    "C = torch.randn((len(chars), embedding_dim), requires_grad=True, device=device)\n",
    "L1 = Linear(l,hidden_layer,bias=False, device=device)\n",
    "L2 = Linear(hidden_layer,len(chars), device=device)\n",
    "B = BatchNorm1d(hidden_layer, device=device, training=False)\n",
    "parameters = L1.parameters() + L2.parameters() + B.parameters() + [C]\n",
    "for p in parameters:\n",
    "    p.requires_grad = True\n",
    "print(sum(p.nelement() for p in parameters))"
   ]
  },
  {
   "cell_type": "code",
   "execution_count": 168,
   "metadata": {},
   "outputs": [],
   "source": [
    "lre = np.linspace(-3,0,1000)\n",
    "lrs = 10**lre"
   ]
  },
  {
   "cell_type": "code",
   "execution_count": 169,
   "metadata": {},
   "outputs": [],
   "source": [
    "from sklearn.model_selection import train_test_split\n",
    "X_train, X_test, y_train, y_test = train_test_split(Xs, ys, test_size=0.1, random_state=42)\n",
    "X_train,X_val, y_train, y_val = train_test_split(X_train, y_train, test_size=0.1, random_state=42)"
   ]
  },
  {
   "cell_type": "code",
   "execution_count": 170,
   "metadata": {},
   "outputs": [],
   "source": [
    "batch_size=32\n",
    "exp_rates = []\n",
    "losses = []\n",
    "for i in range(1000):\n",
    "    #minibatch\n",
    "    batch = torch.randint(0,len(X_train), (batch_size,))\n",
    "    x_batch=X_train[batch]\n",
    "    y_batch=y_train[batch]\n",
    "    # forward pass\n",
    "    emb = C[x_batch]\n",
    "    embcat = emb.reshape(-1,l)\n",
    "    hpreact = L1(embcat)\n",
    "    hpreact = B(hpreact)\n",
    "    h = torch.tanh(hpreact)\n",
    "    logits = L2(h)\n",
    "    loss = F.cross_entropy(logits, y_batch)\n",
    "    # backward pass\n",
    "    for p in parameters:\n",
    "        p.grad = None\n",
    "    loss.backward()\n",
    "    # update parameters\n",
    "    for p in parameters:\n",
    "        p.data -= lrs[i] * p.grad\n",
    "    losses.append(loss.item())\n",
    "    exp_rates.append(lre[i])"
   ]
  },
  {
   "cell_type": "code",
   "execution_count": 171,
   "metadata": {},
   "outputs": [
    {
     "data": {
      "text/plain": [
       "[<matplotlib.lines.Line2D at 0x174160fa3a0>]"
      ]
     },
     "execution_count": 171,
     "metadata": {},
     "output_type": "execute_result"
    },
    {
     "data": {
      "image/png": "[encoded data removed]",
      "text/plain": [
       "<Figure size 640x480 with 1 Axes>"
      ]
     },
     "metadata": {},
     "output_type": "display_data"
    }
   ],
   "source": [
    "plt.plot(exp_rates,losses)"
   ]
  },
  {
   "cell_type": "code",
   "execution_count": 172,
   "metadata": {},
   "outputs": [],
   "source": [
    "#10**--1 = 0.1 seems to be a good learning rate\n",
    "B.setTraining(True)\n",
    "batch_size=32\n",
    "losses = []\n",
    "epochs = 200000\n",
    "for i in range(epochs):\n",
    "    #minibatch\n",
    "    batch = torch.randint(0,len(X_train), (batch_size,))\n",
    "    x_batch=X_train[batch]\n",
    "    y_batch=y_train[batch]\n",
    "    # forward pass\n",
    "    emb = C[x_batch]\n",
    "    embcat = emb.reshape(-1,l)\n",
    "    hpreact = L1(embcat)\n",
    "    hpreact = B(hpreact)\n",
    "    h = torch.tanh(hpreact)\n",
    "    logits = L2(h)\n",
    "    loss = F.cross_entropy(logits, y_batch)\n",
    "    # backward pass\n",
    "    for p in parameters:\n",
    "        p.grad = None\n",
    "    loss.backward()\n",
    "    # update parameters\n",
    "    lr = 0.1 if i < 100000 else 0.01\n",
    "    for p in parameters:\n",
    "        p.data -= lr * p.grad\n",
    "    # print(loss.item())\n",
    "    losses.append(loss.item())"
   ]
  },
  {
   "cell_type": "code",
   "execution_count": 173,
   "metadata": {},
   "outputs": [
    {
     "data": {
      "text/plain": [
       "[<matplotlib.lines.Line2D at 0x1738910f3d0>]"
      ]
     },
     "execution_count": 173,
     "metadata": {},
     "output_type": "execute_result"
    },
    {
     "data": {
      "image/png": "[encoded data removed]",
      "text/plain": [
       "<Figure size 640x480 with 1 Axes>"
      ]
     },
     "metadata": {},
     "output_type": "display_data"
    }
   ],
   "source": [
    "losses = np.array(losses)\n",
    "plt.plot(losses.reshape(-1,1000).mean(1))"
   ]
  },
  {
   "cell_type": "code",
   "execution_count": 174,
   "metadata": {},
   "outputs": [
    {
     "name": "stdout",
     "output_type": "stream",
     "text": [
      "Train loss: 1.801205039024353, Val loss: 1.8342100381851196\n"
     ]
    }
   ],
   "source": [
    "with torch.inference_mode():\n",
    "    B.setTraining(False)\n",
    "    emb = C[X_train]\n",
    "    embcat = emb.reshape(-1,l)\n",
    "    hpreact = L1(embcat)\n",
    "    hpreact = B(hpreact)\n",
    "    h = torch.tanh(hpreact)\n",
    "    logits = L2(h)\n",
    "    train_loss = F.cross_entropy(logits, y_train)\n",
    "    emb = C[X_val]\n",
    "    embcat = emb.reshape(-1,l)\n",
    "    hpreact = L1(embcat)\n",
    "    hpreact = B(hpreact)\n",
    "    h = torch.tanh(hpreact)\n",
    "    logits = L2(h)\n",
    "    val_loss = F.cross_entropy(logits, y_val)\n",
    "    print(f'Train loss: {train_loss.item()}, Val loss: {val_loss.item()}')"
   ]
  },
  {
   "cell_type": "code",
   "execution_count": 175,
   "metadata": {},
   "outputs": [],
   "source": [
    "import pickle\n",
    "torch.save(C, 'params/C.pt')\n",
    "torch.save(L1.weight, 'params/W1.pt')\n",
    "torch.save(L2.weight, 'params/W2.pt')\n",
    "torch.save(L2.bias, 'params/b2.pt')\n",
    "torch.save(B.gamma, 'params/bngain.pt')\n",
    "torch.save(B.beta, 'params/bnbias.pt')\n",
    "torch.save(B.running_mean, 'params/bnmean.pt')\n",
    "torch.save(B.running_var, 'params/bnvar.pt')\n",
    "with open('params/chars.pkl', 'wb') as f:\n",
    "    pickle.dump(chars, f)\n",
    "with open('params/char_index.pkl', 'wb') as f:\n",
    "    pickle.dump(char_index, f)"
   ]
  }
 ],
 "metadata": {
  "kernelspec": {
   "display_name": "base",
   "language": "python",
   "name": "python3"
  },
  "language_info": {
   "codemirror_mode": {
    "name": "ipython",
    "version": 3
   },
   "file_extension": ".py",
   "mimetype": "text/x-python",
   "name": "python",
   "nbconvert_exporter": "python",
   "pygments_lexer": "ipython3",
   "version": "3.9.13"
  },
  "orig_nbformat": 4,
  "vscode": {
   "interpreter": {
    "hash": "11f35b3a2c2f9db604914e925818b5f3881c103430a3a0a48ead856bc8f67805"
   }
  }
 },
 "nbformat": 4,
 "nbformat_minor": 2
}
