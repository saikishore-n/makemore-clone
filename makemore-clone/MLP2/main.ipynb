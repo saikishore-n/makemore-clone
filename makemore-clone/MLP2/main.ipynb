{
 "cells": [
  {
   "cell_type": "code",
   "execution_count": 2,
   "metadata": {},
   "outputs": [],
   "source": [
    "import torch\n",
    "import torch.nn.functional as F\n",
    "import matplotlib.pyplot as plt\n",
    "import numpy as np\n",
    "%matplotlib inline"
   ]
  },
  {
   "cell_type": "code",
   "execution_count": 3,
   "metadata": {},
   "outputs": [],
   "source": [
    "with open(\"../Names.txt\", 'r') as f:\n",
    "    names = f.read().split('\\n')"
   ]
  },
  {
   "cell_type": "code",
   "execution_count": 4,
   "metadata": {},
   "outputs": [
    {
     "data": {
      "text/plain": [
       "55692"
      ]
     },
     "execution_count": 4,
     "metadata": {},
     "output_type": "execute_result"
    }
   ],
   "source": [
    "len(names)"
   ]
  },
  {
   "cell_type": "code",
   "execution_count": 5,
   "metadata": {},
   "outputs": [
    {
     "name": "stdout",
     "output_type": "stream",
     "text": [
      "[' ' '-' '.' 'A' 'B' 'C' 'D' 'E' 'F' 'G' 'H' 'I' 'J' 'K' 'L' 'M' 'N' 'O'\n",
      " 'P' 'Q' 'R' 'S' 'T' 'U' 'V' 'W' 'X' 'Y' 'Z' 'a' 'b' 'c' 'd' 'e' 'f' 'g'\n",
      " 'h' 'i' 'j' 'k' 'l' 'm' 'n' 'o' 'p' 'q' 'r' 's' 't' 'u' 'v' 'w' 'x' 'y'\n",
      " 'z']\n"
     ]
    }
   ],
   "source": [
    "print(np.unique(list(''.join(names))))"
   ]
  },
  {
   "cell_type": "code",
   "execution_count": 6,
   "metadata": {},
   "outputs": [],
   "source": [
    "stopchars = [\" \",\"-\",\".\"]"
   ]
  },
  {
   "cell_type": "code",
   "execution_count": 7,
   "metadata": {},
   "outputs": [],
   "source": [
    "names = [name.lower() for name in names if not any(char in stopchars for char in name)]"
   ]
  },
  {
   "cell_type": "code",
   "execution_count": 8,
   "metadata": {},
   "outputs": [],
   "source": [
    "chars = np.unique(['!']+list(''.join(names)))"
   ]
  },
  {
   "cell_type": "code",
   "execution_count": 9,
   "metadata": {},
   "outputs": [],
   "source": [
    "char_index = dict()\n",
    "for char in chars:\n",
    "    char_index[char] = len(char_index)"
   ]
  },
  {
   "cell_type": "code",
   "execution_count": 10,
   "metadata": {},
   "outputs": [],
   "source": [
    "window_length = 8\n",
    "Xs,ys = [],[]\n",
    "for name in names:\n",
    "    window = [0]*window_length\n",
    "    for c in name+'!':\n",
    "        Xs.append(window)\n",
    "        ys.append(char_index[c])\n",
    "        window = window[1:]+[char_index[c]]"
   ]
  },
  {
   "cell_type": "code",
   "execution_count": 11,
   "metadata": {},
   "outputs": [],
   "source": [
    "device = \"cuda\" if torch.cuda.is_available() else \"cpu\""
   ]
  },
  {
   "cell_type": "code",
   "execution_count": 12,
   "metadata": {},
   "outputs": [],
   "source": [
    "Xs = torch.tensor(Xs, dtype=torch.long, device=device)\n",
    "ys = torch.tensor(ys, dtype=torch.long, device=device)"
   ]
  },
  {
   "cell_type": "code",
   "execution_count": 13,
   "metadata": {},
   "outputs": [
    {
     "name": "stdout",
     "output_type": "stream",
     "text": [
      "['!' '!' '!' '!' '!' '!' '!' '!'] a\n",
      "['!' '!' '!' '!' '!' '!' '!' 'a'] a\n",
      "['!' '!' '!' '!' '!' '!' 'a' 'a'] b\n",
      "['!' '!' '!' '!' '!' 'a' 'a' 'b'] a\n",
      "['!' '!' '!' '!' 'a' 'a' 'b' 'a'] n\n",
      "['!' '!' '!' 'a' 'a' 'b' 'a' 'n'] !\n",
      "['!' '!' '!' '!' '!' '!' '!' '!'] a\n",
      "['!' '!' '!' '!' '!' '!' '!' 'a'] a\n",
      "['!' '!' '!' '!' '!' '!' 'a' 'a'] b\n",
      "['!' '!' '!' '!' '!' 'a' 'a' 'b'] h\n",
      "['!' '!' '!' '!' 'a' 'a' 'b' 'h'] a\n",
      "['!' '!' '!' 'a' 'a' 'b' 'h' 'a'] r\n",
      "['!' '!' 'a' 'a' 'b' 'h' 'a' 'r'] a\n",
      "['!' 'a' 'a' 'b' 'h' 'a' 'r' 'a'] n\n",
      "['a' 'a' 'b' 'h' 'a' 'r' 'a' 'n'] !\n",
      "['!' '!' '!' '!' '!' '!' '!' '!'] a\n",
      "['!' '!' '!' '!' '!' '!' '!' 'a'] a\n",
      "['!' '!' '!' '!' '!' '!' 'a' 'a'] b\n",
      "['!' '!' '!' '!' '!' 'a' 'a' 'b'] h\n",
      "['!' '!' '!' '!' 'a' 'a' 'b' 'h'] a\n",
      "['!' '!' '!' 'a' 'a' 'b' 'h' 'a'] s\n",
      "['!' '!' 'a' 'a' 'b' 'h' 'a' 's'] !\n",
      "['!' '!' '!' '!' '!' '!' '!' '!'] a\n",
      "['!' '!' '!' '!' '!' '!' '!' 'a'] a\n",
      "['!' '!' '!' '!' '!' '!' 'a' 'a'] b\n",
      "['!' '!' '!' '!' '!' 'a' 'a' 'b'] h\n",
      "['!' '!' '!' '!' 'a' 'a' 'b' 'h'] a\n",
      "['!' '!' '!' 'a' 'a' 'b' 'h' 'a'] t\n",
      "['!' '!' 'a' 'a' 'b' 'h' 'a' 't'] !\n",
      "['!' '!' '!' '!' '!' '!' '!' '!'] a\n"
     ]
    }
   ],
   "source": [
    "for i in range(30):\n",
    "    print(chars[Xs[i].cpu()], chars[ys[i].cpu()])"
   ]
  },
  {
   "cell_type": "code",
   "execution_count": 14,
   "metadata": {},
   "outputs": [
    {
     "data": {
      "text/plain": [
       "(torch.Size([494648, 8]), torch.int64, torch.Size([494648]), torch.int64)"
      ]
     },
     "execution_count": 14,
     "metadata": {},
     "output_type": "execute_result"
    }
   ],
   "source": [
    "Xs.shape, Xs.dtype, ys.shape, ys.dtype"
   ]
  },
  {
   "cell_type": "code",
   "execution_count": 15,
   "metadata": {},
   "outputs": [
    {
     "name": "stdout",
     "output_type": "stream",
     "text": [
      "15432\n"
     ]
    }
   ],
   "source": [
    "embedding_dim = 15\n",
    "hidden_layer = 100\n",
    "l = window_length*embedding_dim\n",
    "C = torch.randn((len(chars), embedding_dim), requires_grad=True, device=device)\n",
    "W1 = torch.randn((l,hidden_layer), device=device)\n",
    "b1 = torch.randn((hidden_layer), device=device)\n",
    "W2 = torch.randn(hidden_layer,len(chars), device=device)\n",
    "b2 = torch.randn(len(chars), device=device)\n",
    "bngain = torch.ones((1,hidden_layer), device=device)\n",
    "bnbias = torch.zeros((1,hidden_layer), device=device)\n",
    "bnmean_running = torch.zeros((1,hidden_layer), device=device)\n",
    "bnstd_running = torch.ones((1,hidden_layer), device=device)\n",
    "parameters = [W1,b1,W2,b2,C,bngain,bnbias]\n",
    "for p in parameters:\n",
    "    p.requires_grad = True\n",
    "print(sum(p.nelement() for p in parameters))"
   ]
  },
  {
   "cell_type": "code",
   "execution_count": 16,
   "metadata": {},
   "outputs": [],
   "source": [
    "lre = np.linspace(-3,0,1000)\n",
    "lrs = 10**lre"
   ]
  },
  {
   "cell_type": "code",
   "execution_count": 17,
   "metadata": {},
   "outputs": [],
   "source": [
    "from sklearn.model_selection import train_test_split\n",
    "X_train, X_test, y_train, y_test = train_test_split(Xs, ys, test_size=0.1, random_state=42)\n",
    "X_train,X_val, y_train, y_val = train_test_split(X_train, y_train, test_size=0.1, random_state=42)"
   ]
  },
  {
   "cell_type": "code",
   "execution_count": 18,
   "metadata": {},
   "outputs": [],
   "source": [
    "batch_size=32\n",
    "exp_rates = []\n",
    "losses = []\n",
    "for i in range(1000):\n",
    "    #minibatch\n",
    "    batch = torch.randint(0,len(X_train), (batch_size,))\n",
    "    x_batch=X_train[batch]\n",
    "    y_batch=y_train[batch]\n",
    "    # forward pass\n",
    "    emb = C[x_batch]\n",
    "    embcat = emb.reshape(-1,l)\n",
    "    hpreact = embcat @ W1 + b1\n",
    "    bnmeani = hpreact.mean(0, keepdim=True)\n",
    "    bnstdi = hpreact.std(0, keepdim=True)\n",
    "    hpreact = (hpreact-bnmeani)/bnstdi                                      #batchnorm\n",
    "    hpreact = bngain * hpreact + bnbias                                     #batchnorm\n",
    "    h = torch.tanh(hpreact)\n",
    "    logits = h @ W2 + b2\n",
    "    loss = F.cross_entropy(logits, y_batch)\n",
    "    # backward pass\n",
    "    for p in parameters:\n",
    "        p.grad = None\n",
    "    loss.backward()\n",
    "    # update parameters\n",
    "    for p in parameters:\n",
    "        p.data -= lrs[i] * p.grad\n",
    "    losses.append(loss.item())\n",
    "    exp_rates.append(lre[i])"
   ]
  },
  {
   "cell_type": "code",
   "execution_count": 19,
   "metadata": {},
   "outputs": [
    {
     "data": {
      "text/plain": [
       "5.525672435760498"
      ]
     },
     "execution_count": 19,
     "metadata": {},
     "output_type": "execute_result"
    }
   ],
   "source": [
    "loss.item()"
   ]
  },
  {
   "cell_type": "code",
   "execution_count": 20,
   "metadata": {},
   "outputs": [
    {
     "data": {
      "text/plain": [
       "[<matplotlib.lines.Line2D at 0x1e0d9c66f70>]"
      ]
     },
     "execution_count": 20,
     "metadata": {},
     "output_type": "execute_result"
    },
    {
     "data": {
      "image/png": "[encoded data removed]",
      "text/plain": [
       "<Figure size 640x480 with 1 Axes>"
      ]
     },
     "metadata": {},
     "output_type": "display_data"
    }
   ],
   "source": [
    "plt.plot(exp_rates,losses)"
   ]
  },
  {
   "cell_type": "code",
   "execution_count": 21,
   "metadata": {},
   "outputs": [],
   "source": [
    "#10**-1 = 0.1 seems to be the right learning rate\n",
    "batch_size=32\n",
    "losses = []\n",
    "epochs = 200000\n",
    "for i in range(epochs):\n",
    "    #minibatch\n",
    "    batch = torch.randint(0,len(X_train), (batch_size,))\n",
    "    x_batch=X_train[batch]\n",
    "    y_batch=y_train[batch]\n",
    "    # forward pass\n",
    "    emb = C[x_batch]\n",
    "    embcat = emb.reshape(-1,l)\n",
    "    hpreact = embcat @ W1 + b1\n",
    "    bnmeani = hpreact.mean(0, keepdim=True)         #batchnorm\n",
    "    bnstdi = hpreact.std(0, keepdim=True)           #batchnorm\n",
    "    hpreact = (hpreact-bnmeani)/bnstdi\n",
    "    hpreact = bngain * hpreact + bnbias\n",
    "    with torch.inference_mode():\n",
    "        bnmean_running = 0.999*bnmean_running + 0.001*bnmeani\n",
    "        bnstd_running = 0.999*bnstd_running + 0.001*bnstdi\n",
    "    h = torch.tanh(hpreact)\n",
    "    logits = h @ W2 + b2\n",
    "    loss = F.cross_entropy(logits, y_batch)\n",
    "    # backward pass\n",
    "    for p in parameters:\n",
    "        p.grad = None\n",
    "    loss.backward()\n",
    "    # update parameters\n",
    "    lr = 0.1 if i < 100000 else 0.01\n",
    "    for p in parameters:\n",
    "        p.data -= lr * p.grad\n",
    "    # print(loss.item())\n",
    "    # losses.append(loss.item())"
   ]
  },
  {
   "cell_type": "code",
   "execution_count": 22,
   "metadata": {},
   "outputs": [
    {
     "name": "stdout",
     "output_type": "stream",
     "text": [
      "Train loss: 1.9624098539352417, Val loss: 1.9727284908294678\n"
     ]
    }
   ],
   "source": [
    "with torch.inference_mode():\n",
    "    emb = C[X_train]\n",
    "    hpreact = emb.reshape(-1,l) @ W1 + b1\n",
    "    hpreact = (hpreact-bnmean_running)/bnstd_running\n",
    "    hpreact = bngain * hpreact + bnbias\n",
    "    h = torch.tanh(hpreact)\n",
    "    logits = h @ W2 + b2\n",
    "    train_loss = F.cross_entropy(logits, y_train)\n",
    "    emb = C[X_val]\n",
    "    hpreact = emb.reshape(-1,l) @ W1 + b1\n",
    "    hpreact = (hpreact-bnmean_running)/bnstd_running\n",
    "    hpreact = bngain * hpreact + bnbias\n",
    "    h = torch.tanh(hpreact)\n",
    "    logits = h @ W2 + b2\n",
    "    val_loss = F.cross_entropy(logits, y_val)\n",
    "    print(f'Train loss: {train_loss.item()}, Val loss: {val_loss.item()}')"
   ]
  },
  {
   "cell_type": "code",
   "execution_count": 23,
   "metadata": {},
   "outputs": [],
   "source": [
    "import pickle\n",
    "torch.save(C, 'params/C.pt')\n",
    "torch.save(W1, 'params/W1.pt')\n",
    "torch.save(b1, 'params/b1.pt')\n",
    "torch.save(W2, 'params/W2.pt')\n",
    "torch.save(b2, 'params/b2.pt')\n",
    "torch.save(bngain, 'params/bngain.pt')\n",
    "torch.save(bnbias, 'params/bnbias.pt')\n",
    "torch.save(bnmean_running, 'params/bnmean.pt')\n",
    "torch.save(bnstd_running, 'params/bnstd.pt')\n",
    "with open('params/chars.pkl', 'wb') as f:\n",
    "    pickle.dump(chars, f)\n",
    "with open('params/char_index.pkl', 'wb') as f:\n",
    "    pickle.dump(char_index, f)"
   ]
  },
  {
   "cell_type": "code",
   "execution_count": null,
   "metadata": {},
   "outputs": [],
   "source": []
  }
 ],
 "metadata": {
  "kernelspec": {
   "display_name": "base",
   "language": "python",
   "name": "python3"
  },
  "language_info": {
   "codemirror_mode": {
    "name": "ipython",
    "version": 3
   },
   "file_extension": ".py",
   "mimetype": "text/x-python",
   "name": "python",
   "nbconvert_exporter": "python",
   "pygments_lexer": "ipython3",
   "version": "3.9.13"
  },
  "orig_nbformat": 4,
  "vscode": {
   "interpreter": {
    "hash": "11f35b3a2c2f9db604914e925818b5f3881c103430a3a0a48ead856bc8f67805"
   }
  }
 },
 "nbformat": 4,
 "nbformat_minor": 2
}
