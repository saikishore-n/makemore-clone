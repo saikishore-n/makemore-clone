{
 "cells": [
  {
   "cell_type": "code",
   "execution_count": 1,
   "metadata": {},
   "outputs": [],
   "source": [
    "import torch\n",
    "import pickle"
   ]
  },
  {
   "cell_type": "code",
   "execution_count": 9,
   "metadata": {},
   "outputs": [],
   "source": [
    "W1 = torch.load('params/W1.pt')\n",
    "W2 = torch.load('params/W2.pt')\n",
    "b1 = torch.load('params/b1.pt')\n",
    "b2 = torch.load('params/b2.pt')\n",
    "C = torch.load('params/C.pt')\n",
    "bngain = torch.load('params/bngain.pt')\n",
    "bnbias = torch.load('params/bnbias.pt')\n",
    "bnmean = torch.load('params/bnmean.pt')\n",
    "bnstd = torch.load('params/bnstd.pt')\n",
    "chars = pickle.load(open('params/chars.pkl', 'rb'))\n",
    "char_index = pickle.load(open('params/char_index.pkl', 'rb'))"
   ]
  },
  {
   "cell_type": "code",
   "execution_count": 10,
   "metadata": {},
   "outputs": [],
   "source": [
    "def next_char(prev_8):\n",
    "    prev_8 = torch.tensor(prev_8)\n",
    "    emb = C[prev_8]\n",
    "    probs = torch.softmax(torch.tanh(bngain*((emb.reshape(1,-1) @ W1 + b1 - bnmean)/bnstd) + bnbias) @ W2 + b2, dim=1)\n",
    "    return chars[torch.multinomial(probs, 1).item()]\n",
    "def get_name():\n",
    "    name = ''\n",
    "    prev_8 = [0,0,0,0,0,0,0,0]\n",
    "    next = next_char(prev_8)\n",
    "    while next != '!':\n",
    "        name += next\n",
    "        prev_8 = prev_8[1:] + [char_index[next]]\n",
    "        next = next_char(prev_8)\n",
    "    return name"
   ]
  },
  {
   "cell_type": "code",
   "execution_count": 11,
   "metadata": {},
   "outputs": [
    {
     "name": "stdout",
     "output_type": "stream",
     "text": [
      "kanuara\n",
      "lathava\n",
      "tamchilei\n",
      "anasbani\n",
      "migasaivi\n",
      "lavantawya\n",
      "rinia\n",
      "araktiya\n",
      "bhnudhanan\n",
      "abugi\n",
      "ameartha\n",
      "kamshathenan\n",
      "araish\n",
      "ilokar\n",
      "purmiataa\n",
      "navadhamiya\n",
      "reshadiy\n",
      "vibal\n",
      "chamdina\n",
      "jahourat\n",
      "bhalaeshan\n",
      "chendaran\n",
      "eshnushan\n",
      "hitapardin\n",
      "dharla\n",
      "sajaesan\n",
      "velshena\n",
      "rajalvan\n",
      "sheorra\n",
      "shanojhar\n",
      "matamshari\n",
      "sestna\n",
      "yagmee\n",
      "joyavina\n",
      "adinbh\n",
      "aaksiya\n",
      "yamshathra\n",
      "vinjazhrab\n",
      "bhavichan\n",
      "divajaya\n",
      "dalbaban\n",
      "sudgob\n",
      "ubinara\n",
      "nasathy\n",
      "dedgaj\n",
      "mahyamaliki\n",
      "ariniyan\n",
      "ruthishwari\n",
      "yajithman\n",
      "athiyerani\n"
     ]
    }
   ],
   "source": [
    "for i in range(50):\n",
    "    print(get_name())"
   ]
  },
  {
   "cell_type": "code",
   "execution_count": 12,
   "metadata": {},
   "outputs": [],
   "source": [
    "def get_normalised_negative_log_likelihood(word):\n",
    "    prev_8 = [0,0,0,0,0,0,0,0]\n",
    "    nll = 0\n",
    "    for c in word:\n",
    "        emb = C[prev_8]\n",
    "        probs = torch.softmax(torch.tanh(bngain*((emb.reshape(1,-1) @ W1 + b1 - bnmean)/bnstd) + bnbias) @ W2 + b2, dim=1)\n",
    "        nll += -torch.log(probs[:,char_index[c]])\n",
    "        prev_8 = prev_8[1:] + [char_index[c]]\n",
    "    return nll / len(word)"
   ]
  },
  {
   "cell_type": "code",
   "execution_count": 13,
   "metadata": {},
   "outputs": [
    {
     "data": {
      "text/plain": [
       "(2.64601469039917, 3.3632915019989014)"
      ]
     },
     "execution_count": 13,
     "metadata": {},
     "output_type": "execute_result"
    }
   ],
   "source": [
    "get_normalised_negative_log_likelihood('arjun').item(), get_normalised_negative_log_likelihood('steve').item()"
   ]
  },
  {
   "cell_type": "code",
   "execution_count": null,
   "metadata": {},
   "outputs": [],
   "source": []
  }
 ],
 "metadata": {
  "kernelspec": {
   "display_name": "base",
   "language": "python",
   "name": "python3"
  },
  "language_info": {
   "codemirror_mode": {
    "name": "ipython",
    "version": 3
   },
   "file_extension": ".py",
   "mimetype": "text/x-python",
   "name": "python",
   "nbconvert_exporter": "python",
   "pygments_lexer": "ipython3",
   "version": "3.9.13"
  },
  "orig_nbformat": 4,
  "vscode": {
   "interpreter": {
    "hash": "11f35b3a2c2f9db604914e925818b5f3881c103430a3a0a48ead856bc8f67805"
   }
  }
 },
 "nbformat": 4,
 "nbformat_minor": 2
}
