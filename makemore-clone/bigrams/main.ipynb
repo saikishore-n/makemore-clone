{
 "cells": [
  {
   "cell_type": "code",
   "execution_count": 1,
   "metadata": {},
   "outputs": [],
   "source": [
    "import pandas as pd\n",
    "import numpy as np\n",
    "import matplotlib.pyplot as plt\n",
    "import torch\n",
    "import random"
   ]
  },
  {
   "cell_type": "code",
   "execution_count": 2,
   "metadata": {},
   "outputs": [],
   "source": [
    "with open(\"../Names.txt\", 'r') as f:\n",
    "    names = f.read().split('\\n')"
   ]
  },
  {
   "cell_type": "code",
   "execution_count": 3,
   "metadata": {},
   "outputs": [
    {
     "name": "stdout",
     "output_type": "stream",
     "text": [
      "[' ' '-' '.' 'A' 'B' 'C' 'D' 'E' 'F' 'G' 'H' 'I' 'J' 'K' 'L' 'M' 'N' 'O'\n",
      " 'P' 'Q' 'R' 'S' 'T' 'U' 'V' 'W' 'X' 'Y' 'Z' 'a' 'b' 'c' 'd' 'e' 'f' 'g'\n",
      " 'h' 'i' 'j' 'k' 'l' 'm' 'n' 'o' 'p' 'q' 'r' 's' 't' 'u' 'v' 'w' 'x' 'y'\n",
      " 'z']\n"
     ]
    }
   ],
   "source": [
    "print(np.unique(list(''.join(names))))"
   ]
  },
  {
   "cell_type": "code",
   "execution_count": 4,
   "metadata": {},
   "outputs": [],
   "source": [
    "stopchars = [\" \",\"-\",\".\"]"
   ]
  },
  {
   "cell_type": "code",
   "execution_count": 5,
   "metadata": {},
   "outputs": [],
   "source": [
    "dataset = ['!'+name.lower()+'!' for name in names if not any(char in stopchars for char in name)]"
   ]
  },
  {
   "cell_type": "code",
   "execution_count": 6,
   "metadata": {},
   "outputs": [],
   "source": [
    "chars = np.unique(list(''.join(dataset)))"
   ]
  },
  {
   "cell_type": "code",
   "execution_count": 7,
   "metadata": {},
   "outputs": [],
   "source": [
    "char_index = dict()\n",
    "for char in chars:\n",
    "    char_index[char] = len(char_index)"
   ]
  },
  {
   "cell_type": "code",
   "execution_count": 8,
   "metadata": {},
   "outputs": [],
   "source": [
    "mat = np.zeros((27,27), dtype=int)\n",
    "for name in dataset:\n",
    "    for i in range(len(name)-1):\n",
    "        mat[char_index[name[i]],char_index[name[i+1]]] += 1"
   ]
  },
  {
   "cell_type": "code",
   "execution_count": 9,
   "metadata": {},
   "outputs": [],
   "source": [
    "prob_mat = mat/mat.sum(axis=1)[:,None]"
   ]
  },
  {
   "cell_type": "code",
   "execution_count": 10,
   "metadata": {},
   "outputs": [],
   "source": [
    "def next_pred(char):\n",
    "    return random.choices(chars,prob_mat[char_index[char]])[0]\n",
    "def next_pred_random():\n",
    "    return random.choices(chars)[0]"
   ]
  },
  {
   "cell_type": "code",
   "execution_count": 11,
   "metadata": {},
   "outputs": [],
   "source": [
    "def get_name():\n",
    "    name = ''\n",
    "    char = '!'\n",
    "    # char = next_pred_random()\n",
    "    char = next_pred(char)\n",
    "    name += char\n",
    "    while char != '!':\n",
    "        char = next_pred(char)\n",
    "        name += char\n",
    "    name = name[:-1]\n",
    "    return name\n",
    "def get_random():\n",
    "    name = ''\n",
    "    char = '!'\n",
    "    char = next_pred_random()\n",
    "    # char = next_pred(char)\n",
    "    name += char\n",
    "    while char != '!':\n",
    "        char = next_pred(char)\n",
    "        name += char\n",
    "    name = name[:-1]\n",
    "    return name"
   ]
  },
  {
   "cell_type": "code",
   "execution_count": 12,
   "metadata": {},
   "outputs": [
    {
     "name": "stdout",
     "output_type": "stream",
     "text": [
      "maniragy\n",
      "kagaravign\n",
      "ja\n",
      "mumool\n",
      "kaaha\n",
      "rishrthaselanininineruprumajasan\n",
      "a\n",
      "i\n",
      "shiyumanyukiliyarasothandiki\n",
      "karishaneeeethanurtan\n",
      "radoojanathan\n",
      "dhathiv\n",
      "jaymi\n",
      "ay\n",
      "ppari\n",
      "varosminkipushai\n",
      "tha\n",
      "han\n",
      "vilavila\n",
      "rmathwndmajolah\n",
      "shigh\n",
      "rarom\n",
      "puseeshshnukaaka\n",
      "puryepa\n",
      "bhraalin\n",
      "ry\n",
      "ninesowrakyakashesha\n",
      "n\n",
      "dabavinanthina\n",
      "til\n",
      "h\n",
      "t\n",
      "srthaetan\n",
      "kadruse\n",
      "aams\n",
      "mariyagar\n",
      "jeyaareoshathan\n",
      "kon\n",
      "kayalarashanikaan\n",
      "us\n",
      "aianikshhit\n",
      "at\n",
      "mara\n",
      "ri\n",
      "in\n",
      "masha\n",
      "pran\n",
      "fta\n",
      "su\n",
      "anithivatashash\n",
      "mi\n",
      "nadrn\n",
      "shilya\n",
      "tyan\n",
      "dan\n",
      "aniyatarjandeeesthnganoj\n",
      "janavarooopinurithavavami\n",
      "dan\n",
      "amenen\n",
      "t\n",
      "shithrandh\n",
      "ri\n",
      "m\n",
      "kan\n",
      "arisana\n",
      "lush\n",
      "jarthashayundhirdhapananikashi\n",
      "rea\n",
      "yain\n",
      "rinivardi\n",
      "ran\n",
      "ra\n",
      "a\n",
      "gathayumi\n",
      "saraathan\n",
      "ka\n",
      "jahraatwaharananan\n",
      "nth\n",
      "bilarashakayamva\n",
      "sajan\n",
      "agiga\n",
      "dhuhurthulladryanisha\n",
      "shesh\n",
      "minankan\n",
      "thugiyanjal\n",
      "i\n",
      "dikavananendhuputhashvashn\n",
      "ran\n",
      "mern\n",
      "an\n",
      "avesha\n",
      "prsahara\n",
      "vevaruth\n",
      "jyarmitha\n",
      "van\n",
      "shnan\n",
      "d\n",
      "arinaka\n",
      "han\n",
      "pi\n"
     ]
    }
   ],
   "source": [
    "for i in range(100):\n",
    "    print(get_name())"
   ]
  },
  {
   "cell_type": "code",
   "execution_count": 13,
   "metadata": {},
   "outputs": [
    {
     "name": "stdout",
     "output_type": "stream",
     "text": [
      "jam\n",
      "ankrayubhani\n",
      "ya\n",
      "ban\n",
      "\n",
      "hrvanita\n",
      "bilagedikarathan\n",
      "ckadatharshashamujata\n",
      "\n",
      "rahajins\n",
      "fa\n",
      "haana\n",
      "f\n",
      "nyasrabhatthyamarisan\n",
      "n\n",
      "avi\n",
      "shann\n",
      "viyooot\n",
      "j\n",
      "xshavyshin\n",
      "sanothiksan\n",
      "gurar\n",
      "eemithmoshavenapurgeesareshaasarisanuberishu\n",
      "esandh\n",
      "hijarshogoovinanukhoran\n",
      "xsishashethvichishaswan\n",
      "an\n",
      "n\n",
      "chan\n",
      "wanen\n",
      "ejand\n",
      "deeee\n",
      "wemeeh\n",
      "urana\n",
      "eshashalandashan\n",
      "isari\n",
      "wamavainnarubevathin\n",
      "yunaamamanin\n",
      "ta\n",
      "jan\n",
      "fayanelabamaati\n",
      "l\n",
      "qatswikshr\n",
      "shireetha\n",
      "cheshadina\n",
      "njaleshari\n",
      "zarath\n",
      "x\n",
      "ya\n",
      "umi\n",
      "dusan\n",
      "wathabathuranthanthug\n",
      "b\n",
      "rutha\n",
      "qubilananilamu\n",
      "fa\n",
      "bandha\n",
      "kran\n",
      "ooy\n",
      "\n",
      "n\n",
      "nayadhmi\n",
      "yaka\n",
      "uratherotheeesumi\n",
      "krdude\n",
      "ola\n",
      "xm\n",
      "yarth\n",
      "parethipiliswalitashanani\n",
      "\n",
      "raniyatiksi\n",
      "in\n",
      "buruvaasa\n",
      "kshithashan\n",
      "ithan\n",
      "benin\n",
      "brenthinta\n",
      "inthin\n",
      "boop\n",
      "payaghindhyabhiriva\n",
      "ns\n",
      "xshha\n",
      "kaman\n",
      "gaipaga\n",
      "chan\n",
      "iragit\n",
      "quthatral\n",
      "quthisushavakan\n",
      "thi\n",
      "kushosra\n",
      "gan\n",
      "qaam\n",
      "hin\n",
      "shanaru\n",
      "llllinthanashat\n",
      "chithashyarrdhaveeethin\n",
      "vala\n",
      "\n",
      "\n",
      "gathwa\n"
     ]
    }
   ],
   "source": [
    "for i in range(100):\n",
    "    print(get_random())"
   ]
  }
 ],
 "metadata": {
  "kernelspec": {
   "display_name": "base",
   "language": "python",
   "name": "python3"
  },
  "language_info": {
   "codemirror_mode": {
    "name": "ipython",
    "version": 3
   },
   "file_extension": ".py",
   "mimetype": "text/x-python",
   "name": "python",
   "nbconvert_exporter": "python",
   "pygments_lexer": "ipython3",
   "version": "3.9.13"
  },
  "orig_nbformat": 4,
  "vscode": {
   "interpreter": {
    "hash": "11f35b3a2c2f9db604914e925818b5f3881c103430a3a0a48ead856bc8f67805"
   }
  }
 },
 "nbformat": 4,
 "nbformat_minor": 2
}
