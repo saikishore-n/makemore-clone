{
 "cells": [
  {
   "cell_type": "code",
   "execution_count": 1,
   "metadata": {},
   "outputs": [],
   "source": [
    "import pandas as pd\n",
    "import numpy as np\n",
    "import matplotlib.pyplot as plt\n",
    "import torch\n",
    "import random"
   ]
  },
  {
   "cell_type": "code",
   "execution_count": 2,
   "metadata": {},
   "outputs": [],
   "source": [
    "with open(\"../Names.txt\", 'r') as f:\n",
    "    names = f.read().split('\\n')"
   ]
  },
  {
   "cell_type": "code",
   "execution_count": 3,
   "metadata": {},
   "outputs": [
    {
     "name": "stdout",
     "output_type": "stream",
     "text": [
      "[' ' '-' '.' 'A' 'B' 'C' 'D' 'E' 'F' 'G' 'H' 'I' 'J' 'K' 'L' 'M' 'N' 'O'\n",
      " 'P' 'Q' 'R' 'S' 'T' 'U' 'V' 'W' 'X' 'Y' 'Z' 'a' 'b' 'c' 'd' 'e' 'f' 'g'\n",
      " 'h' 'i' 'j' 'k' 'l' 'm' 'n' 'o' 'p' 'q' 'r' 's' 't' 'u' 'v' 'w' 'x' 'y'\n",
      " 'z']\n"
     ]
    }
   ],
   "source": [
    "print(np.unique(list(''.join(names))))"
   ]
  },
  {
   "cell_type": "code",
   "execution_count": 4,
   "metadata": {},
   "outputs": [],
   "source": [
    "stopchars = [\" \",\"-\",\".\"]"
   ]
  },
  {
   "cell_type": "code",
   "execution_count": 5,
   "metadata": {},
   "outputs": [],
   "source": [
    "dataset = ['!'+name.lower()+'!' for name in names if not any(char in stopchars for char in name)]"
   ]
  },
  {
   "cell_type": "code",
   "execution_count": 6,
   "metadata": {},
   "outputs": [],
   "source": [
    "chars = np.unique(list(''.join(dataset)))"
   ]
  },
  {
   "cell_type": "code",
   "execution_count": 7,
   "metadata": {},
   "outputs": [],
   "source": [
    "char_index = dict()\n",
    "for char in chars:\n",
    "    char_index[char] = len(char_index)"
   ]
  },
  {
   "cell_type": "code",
   "execution_count": 8,
   "metadata": {},
   "outputs": [],
   "source": [
    "mat = np.zeros((27,27), dtype=int)\n",
    "for name in dataset:\n",
    "    for i in range(len(name)-1):\n",
    "        mat[char_index[name[i]],char_index[name[i+1]]] += 1"
   ]
  },
  {
   "cell_type": "code",
   "execution_count": 9,
   "metadata": {},
   "outputs": [],
   "source": [
    "prob_mat = mat/mat.sum(axis=1)[:,None]"
   ]
  },
  {
   "cell_type": "code",
   "execution_count": 10,
   "metadata": {},
   "outputs": [],
   "source": [
    "def next_pred(char):\n",
    "    return random.choices(chars,prob_mat[char_index[char]])[0]"
   ]
  },
  {
   "cell_type": "code",
   "execution_count": 11,
   "metadata": {},
   "outputs": [],
   "source": [
    "def get_name():\n",
    "    name = ''\n",
    "    char = '!'\n",
    "    char = next_pred(char)\n",
    "    name += char\n",
    "    while char != '!':\n",
    "        char = next_pred(char)\n",
    "        name += char\n",
    "    return name[:-1]"
   ]
  },
  {
   "cell_type": "code",
   "execution_count": 12,
   "metadata": {},
   "outputs": [
    {
     "name": "stdout",
     "output_type": "stream",
     "text": [
      "n\n",
      "ajethithitha\n",
      "rinkirahitrtin\n",
      "ah\n",
      "n\n",
      "siya\n",
      "kazi\n",
      "sumaningatya\n",
      "va\n",
      "bhelirueeshathesa\n",
      "riruha\n",
      "shin\n",
      "sa\n",
      "aranilourmapaika\n",
      "harathin\n",
      "thaj\n",
      "bhinakanayanch\n",
      "bra\n",
      "gi\n",
      "lal\n",
      "bilabiyuprensishuthashi\n",
      "engivavararesowan\n",
      "kome\n",
      "ja\n",
      "k\n",
      "vaniti\n",
      "mu\n",
      "piyaya\n",
      "chinith\n",
      "fan\n",
      "uri\n",
      "sharuprshalan\n",
      "thil\n",
      "gahitathi\n",
      "j\n",
      "the\n",
      "anish\n",
      "aya\n",
      "ra\n",
      "vh\n",
      "ra\n",
      "ubilipaya\n",
      "hushithathin\n",
      "dhankagudhrasin\n",
      "rin\n",
      "padellli\n",
      "thatwa\n",
      "dhara\n",
      "anyunabageeya\n",
      "sainaashashavi\n",
      "vivrudharadamaashan\n",
      "hithath\n",
      "chaman\n",
      "kuvi\n",
      "theean\n",
      "gidelaraya\n",
      "paga\n",
      "palami\n",
      "mama\n",
      "jaf\n",
      "rn\n",
      "pontalabhrishan\n",
      "ganubhakshirviprthibanath\n",
      "gicyaluntth\n",
      "drabhaiya\n",
      "ba\n",
      "ishai\n",
      "bikalm\n",
      "bamaeli\n",
      "la\n",
      "sh\n",
      "piniban\n",
      "shrosaniyarsusunise\n",
      "pana\n",
      "raran\n",
      "majakssanipraranaran\n",
      "a\n",
      "tus\n",
      "ksanjj\n",
      "si\n",
      "rilaharimdileesh\n",
      "di\n",
      "pakrujivanhanalel\n",
      "athi\n",
      "pa\n",
      "sh\n",
      "nimomiksh\n",
      "ha\n",
      "vakansshaheelalaanav\n",
      "anasrasalthurarish\n",
      "uthaalararkishiranidishiyanant\n",
      "omilruga\n",
      "esha\n",
      "lupaithathoohavan\n",
      "a\n",
      "zathanilimun\n",
      "lasaesayansh\n",
      "sevadhaamejashasan\n",
      "i\n",
      "mshankai\n"
     ]
    }
   ],
   "source": [
    "for i in range(100):\n",
    "    print(get_name())"
   ]
  },
  {
   "cell_type": "code",
   "execution_count": null,
   "metadata": {},
   "outputs": [],
   "source": []
  }
 ],
 "metadata": {
  "kernelspec": {
   "display_name": "base",
   "language": "python",
   "name": "python3"
  },
  "language_info": {
   "codemirror_mode": {
    "name": "ipython",
    "version": 3
   },
   "file_extension": ".py",
   "mimetype": "text/x-python",
   "name": "python",
   "nbconvert_exporter": "python",
   "pygments_lexer": "ipython3",
   "version": "3.9.13"
  },
  "orig_nbformat": 4,
  "vscode": {
   "interpreter": {
    "hash": "11f35b3a2c2f9db604914e925818b5f3881c103430a3a0a48ead856bc8f67805"
   }
  }
 },
 "nbformat": 4,
 "nbformat_minor": 2
}
