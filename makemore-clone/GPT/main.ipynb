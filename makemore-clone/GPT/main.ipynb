{
 "cells": [
  {
   "cell_type": "code",
   "execution_count": 247,
   "metadata": {},
   "outputs": [],
   "source": [
    "import matplotlib.pyplot as plt\n",
    "import numpy as np\n",
    "import torch\n",
    "import torch.nn as nn\n",
    "from torch.nn import functional as F"
   ]
  },
  {
   "cell_type": "code",
   "execution_count": 248,
   "metadata": {},
   "outputs": [],
   "source": [
    "with open(\"upanishads.txt\", \"r\") as f:\n",
    "    text = f.read()"
   ]
  },
  {
   "cell_type": "code",
   "execution_count": 249,
   "metadata": {},
   "outputs": [],
   "source": [
    "text = text.lower()\n",
    "text = ' '.join(text.split())"
   ]
  },
  {
   "cell_type": "code",
   "execution_count": 250,
   "metadata": {},
   "outputs": [
    {
     "name": "stdout",
     "output_type": "stream",
     "text": [
      "hello\n"
     ]
    }
   ],
   "source": [
    "chars = sorted(list(set(text)))\n",
    "vocab_size = len(chars)\n",
    "itos = {i:c for i,c in enumerate(chars)}\n",
    "stoi = {c:i for i,c in enumerate(chars)}\n",
    "encode = lambda s : [stoi[c] for c in s]\n",
    "decode = lambda l : ''.join([itos[i] for i in l])\n",
    "print(decode(encode(\"hello\")))"
   ]
  },
  {
   "cell_type": "code",
   "execution_count": 251,
   "metadata": {},
   "outputs": [
    {
     "name": "stdout",
     "output_type": "stream",
     "text": [
      "[(' ', 94773), ('!', 403), ('\"', 2768), (\"'\", 269), ('(', 857), (')', 858), (',', 7524), ('.', 5451), ('0', 83), ('1', 647), ('2', 409), ('3', 246), ('4', 215), ('5', 152), ('6', 146), ('7', 112), ('8', 112), ('9', 96), (':', 863), (';', 868), ('?', 363), ('a', 36360), ('b', 6840), ('c', 7846), ('d', 15800), ('e', 52576), ('f', 10301), ('g', 6914), ('h', 31402), ('i', 30626), ('j', 1075), ('k', 3250), ('l', 13690), ('m', 10293), ('n', 26957), ('o', 28010), ('p', 6065), ('q', 250), ('r', 24194), ('s', 29255), ('t', 39054), ('u', 9034), ('v', 4789), ('w', 8122), ('x', 579), ('y', 7013), ('z', 103), ('—', 1268)]\n"
     ]
    }
   ],
   "source": [
    "print([(c, text.count(c)) for c in chars])"
   ]
  },
  {
   "cell_type": "code",
   "execution_count": 252,
   "metadata": {},
   "outputs": [],
   "source": [
    "data = torch.tensor(encode(text), dtype=torch.long, device='cuda')"
   ]
  },
  {
   "cell_type": "code",
   "execution_count": 253,
   "metadata": {},
   "outputs": [],
   "source": [
    "n = int(0.9*len(data))\n",
    "train, test = data[:n], data[n:]"
   ]
  },
  {
   "cell_type": "code",
   "execution_count": 254,
   "metadata": {},
   "outputs": [
    {
     "data": {
      "text/plain": [
       "(475992, 52889)"
      ]
     },
     "execution_count": 254,
     "metadata": {},
     "output_type": "execute_result"
    }
   ],
   "source": [
    "len(train), len(test)"
   ]
  },
  {
   "cell_type": "code",
   "execution_count": 255,
   "metadata": {},
   "outputs": [],
   "source": [
    "batch_size = 32\n",
    "window_length = 8\n",
    "\n",
    "def get_batch(split):\n",
    "    data = train if split == 'train' else test\n",
    "    ix = torch.randint(len(data) - window_length, (batch_size,))\n",
    "    x = torch.stack([data[i:i+window_length] for i in ix])\n",
    "    y = torch.stack([data[i+1:i+window_length+1] for i in ix])\n",
    "    return x, y"
   ]
  },
  {
   "cell_type": "code",
   "execution_count": 256,
   "metadata": {},
   "outputs": [
    {
     "name": "stdout",
     "output_type": "stream",
     "text": [
      "When input is [29], output is 23\n",
      "When input is [29, 23], output is 39\n",
      "When input is [29, 23, 39], output is 6\n",
      "When input is [29, 23, 39, 6], output is 0\n",
      "When input is [29, 23, 39, 6, 0], output is 25\n",
      "When input is [29, 23, 39, 6, 0, 25], output is 40\n",
      "When input is [29, 23, 39, 6, 0, 25, 40], output is 45\n",
      "When input is [29, 23, 39, 6, 0, 25, 40, 45], output is 33\n",
      "When input is [26], output is 32\n",
      "When input is [26, 32], output is 25\n",
      "When input is [26, 32, 25], output is 23\n",
      "When input is [26, 32, 25, 23], output is 40\n",
      "When input is [26, 32, 25, 23, 40], output is 29\n",
      "When input is [26, 32, 25, 23, 40, 29], output is 35\n",
      "When input is [26, 32, 25, 23, 40, 29, 35], output is 34\n",
      "When input is [26, 32, 25, 23, 40, 29, 35, 34], output is 0\n",
      "When input is [34], output is 25\n",
      "When input is [34, 25], output is 0\n",
      "When input is [34, 25, 0], output is 38\n",
      "When input is [34, 25, 0, 38], output is 25\n",
      "When input is [34, 25, 0, 38, 25], output is 26\n",
      "When input is [34, 25, 0, 38, 25, 26], output is 32\n",
      "When input is [34, 25, 0, 38, 25, 26, 32], output is 25\n",
      "When input is [34, 25, 0, 38, 25, 26, 32, 25], output is 23\n",
      "When input is [23], output is 25\n",
      "When input is [23, 25], output is 0\n",
      "When input is [23, 25, 0], output is 35\n",
      "When input is [23, 25, 0, 35], output is 26\n",
      "When input is [23, 25, 0, 35, 26], output is 0\n",
      "When input is [23, 25, 0, 35, 26, 0], output is 25\n",
      "When input is [23, 25, 0, 35, 26, 0, 25], output is 32\n",
      "When input is [23, 25, 0, 35, 26, 0, 25, 32], output is 25\n",
      "When input is [39], output is 29\n",
      "When input is [39, 29], output is 38\n",
      "When input is [39, 29, 38], output is 6\n",
      "When input is [39, 29, 38, 6], output is 0\n",
      "When input is [39, 29, 38, 6, 0], output is 43\n",
      "When input is [39, 29, 38, 6, 0, 43], output is 29\n",
      "When input is [39, 29, 38, 6, 0, 43, 29], output is 40\n",
      "When input is [39, 29, 38, 6, 0, 43, 29, 40], output is 28\n",
      "When input is [0], output is 33\n",
      "When input is [0, 33], output is 35\n",
      "When input is [0, 33, 35], output is 40\n",
      "When input is [0, 33, 35, 40], output is 28\n",
      "When input is [0, 33, 35, 40, 28], output is 25\n",
      "When input is [0, 33, 35, 40, 28, 25], output is 38\n",
      "When input is [0, 33, 35, 40, 28, 25, 38], output is 39\n",
      "When input is [0, 33, 35, 40, 28, 25, 38, 39], output is 6\n",
      "When input is [38], output is 39\n",
      "When input is [38, 39], output is 6\n",
      "When input is [38, 39, 6], output is 0\n",
      "When input is [38, 39, 6, 0], output is 33\n",
      "When input is [38, 39, 6, 0, 33], output is 45\n",
      "When input is [38, 39, 6, 0, 33, 45], output is 0\n",
      "When input is [38, 39, 6, 0, 33, 45, 0], output is 24\n",
      "When input is [38, 39, 6, 0, 33, 45, 0, 24], output is 25\n",
      "When input is [39], output is 40\n",
      "When input is [39, 40], output is 0\n",
      "When input is [39, 40, 0], output is 29\n",
      "When input is [39, 40, 0, 29], output is 39\n",
      "When input is [39, 40, 0, 29, 39], output is 6\n",
      "When input is [39, 40, 0, 29, 39, 6], output is 0\n",
      "When input is [39, 40, 0, 29, 39, 6, 0], output is 42\n",
      "When input is [39, 40, 0, 29, 39, 6, 0, 42], output is 25\n",
      "When input is [25], output is 38\n",
      "When input is [25, 38], output is 21\n",
      "When input is [25, 38, 21], output is 22\n",
      "When input is [25, 38, 21, 22], output is 32\n",
      "When input is [25, 38, 21, 22, 32], output is 25\n",
      "When input is [25, 38, 21, 22, 32, 25], output is 0\n",
      "When input is [25, 38, 21, 22, 32, 25, 0], output is 39\n",
      "When input is [25, 38, 21, 22, 32, 25, 0, 39], output is 29\n",
      "When input is [25], output is 25\n",
      "When input is [25, 25], output is 0\n",
      "When input is [25, 25, 0], output is 26\n",
      "When input is [25, 25, 0, 26], output is 38\n",
      "When input is [25, 25, 0, 26, 38], output is 35\n",
      "When input is [25, 25, 0, 26, 38, 35], output is 33\n",
      "When input is [25, 25, 0, 26, 38, 35, 33], output is 0\n",
      "When input is [25, 25, 0, 26, 38, 35, 33, 0], output is 39\n",
      "When input is [42], output is 25\n",
      "When input is [42, 25], output is 24\n",
      "When input is [42, 25, 24], output is 21\n",
      "When input is [42, 25, 24, 21], output is 6\n",
      "When input is [42, 25, 24, 21, 6], output is 0\n",
      "When input is [42, 25, 24, 21, 6, 0], output is 40\n",
      "When input is [42, 25, 24, 21, 6, 0, 40], output is 28\n",
      "When input is [42, 25, 24, 21, 6, 0, 40, 28], output is 25\n",
      "When input is [33], output is 39\n",
      "When input is [33, 39], output is 0\n",
      "When input is [33, 39, 0], output is 35\n",
      "When input is [33, 39, 0, 35], output is 34\n",
      "When input is [33, 39, 0, 35, 34], output is 25\n",
      "When input is [33, 39, 0, 35, 34, 25], output is 3\n",
      "When input is [33, 39, 0, 35, 34, 25, 3], output is 39\n",
      "When input is [33, 39, 0, 35, 34, 25, 3, 39], output is 0\n",
      "When input is [35], output is 41\n",
      "When input is [35, 41], output is 1\n",
      "When input is [35, 41, 1], output is 0\n",
      "When input is [35, 41, 1, 0], output is 42\n",
      "When input is [35, 41, 1, 0, 42], output is 25\n",
      "When input is [35, 41, 1, 0, 42, 25], output is 38\n",
      "When input is [35, 41, 1, 0, 42, 25, 38], output is 29\n",
      "When input is [35, 41, 1, 0, 42, 25, 38, 29], output is 32\n",
      "When input is [38], output is 25\n",
      "When input is [38, 25], output is 0\n",
      "When input is [38, 25, 0], output is 40\n",
      "When input is [38, 25, 0, 40], output is 35\n",
      "When input is [38, 25, 0, 40, 35], output is 0\n",
      "When input is [38, 25, 0, 40, 35, 0], output is 41\n",
      "When input is [38, 25, 0, 40, 35, 0, 41], output is 34\n",
      "When input is [38, 25, 0, 40, 35, 0, 41, 34], output is 24\n",
      "When input is [32], output is 32\n",
      "When input is [32, 32], output is 19\n",
      "When input is [32, 32, 19], output is 0\n",
      "When input is [32, 32, 19, 0], output is 40\n",
      "When input is [32, 32, 19, 0, 40], output is 28\n",
      "When input is [32, 32, 19, 0, 40, 28], output is 38\n",
      "When input is [32, 32, 19, 0, 40, 28, 38], output is 35\n",
      "When input is [32, 32, 19, 0, 40, 28, 38, 35], output is 41\n",
      "When input is [0], output is 29\n",
      "When input is [0, 29], output is 40\n",
      "When input is [0, 29, 40], output is 0\n",
      "When input is [0, 29, 40, 0], output is 32\n",
      "When input is [0, 29, 40, 0, 32], output is 25\n",
      "When input is [0, 29, 40, 0, 32, 25], output is 21\n",
      "When input is [0, 29, 40, 0, 32, 25, 21], output is 42\n",
      "When input is [0, 29, 40, 0, 32, 25, 21, 42], output is 25\n",
      "When input is [25], output is 25\n",
      "When input is [25, 25], output is 24\n",
      "When input is [25, 25, 24], output is 6\n",
      "When input is [25, 25, 24, 6], output is 0\n",
      "When input is [25, 25, 24, 6, 0], output is 29\n",
      "When input is [25, 25, 24, 6, 0, 29], output is 39\n",
      "When input is [25, 25, 24, 6, 0, 29, 39], output is 0\n",
      "When input is [25, 25, 24, 6, 0, 29, 39, 0], output is 40\n",
      "When input is [28], output is 29\n",
      "When input is [28, 29], output is 39\n",
      "When input is [28, 29, 39], output is 0\n",
      "When input is [28, 29, 39, 0], output is 33\n",
      "When input is [28, 29, 39, 0, 33], output is 25\n",
      "When input is [28, 29, 39, 0, 33, 25], output is 38\n",
      "When input is [28, 29, 39, 0, 33, 25, 38], output is 25\n",
      "When input is [28, 29, 39, 0, 33, 25, 38, 25], output is 0\n",
      "When input is [7], output is 25\n",
      "When input is [7, 25], output is 7\n",
      "When input is [7, 25, 7], output is 0\n",
      "When input is [7, 25, 7, 0], output is 40\n",
      "When input is [7, 25, 7, 0, 40], output is 28\n",
      "When input is [7, 25, 7, 0, 40, 28], output is 25\n",
      "When input is [7, 25, 7, 0, 40, 28, 25], output is 0\n",
      "When input is [7, 25, 7, 0, 40, 28, 25, 0], output is 36\n",
      "When input is [39], output is 25\n",
      "When input is [39, 25], output is 38\n",
      "When input is [39, 25, 38], output is 25\n",
      "When input is [39, 25, 38, 25], output is 34\n",
      "When input is [39, 25, 38, 25, 34], output is 25\n",
      "When input is [39, 25, 38, 25, 34, 25], output is 0\n",
      "When input is [39, 25, 38, 25, 34, 25, 0], output is 21\n",
      "When input is [39, 25, 38, 25, 34, 25, 0, 21], output is 34\n",
      "When input is [0], output is 43\n",
      "When input is [0, 43], output is 35\n",
      "When input is [0, 43, 35], output is 38\n",
      "When input is [0, 43, 35, 38], output is 32\n",
      "When input is [0, 43, 35, 38, 32], output is 24\n",
      "When input is [0, 43, 35, 38, 32, 24], output is 39\n",
      "When input is [0, 43, 35, 38, 32, 24, 39], output is 0\n",
      "When input is [0, 43, 35, 38, 32, 24, 39, 0], output is 21\n",
      "When input is [29], output is 0\n",
      "When input is [29, 0], output is 24\n",
      "When input is [29, 0, 24], output is 35\n",
      "When input is [29, 0, 24, 35], output is 0\n",
      "When input is [29, 0, 24, 35, 0], output is 34\n",
      "When input is [29, 0, 24, 35, 0, 34], output is 35\n",
      "When input is [29, 0, 24, 35, 0, 34, 35], output is 40\n",
      "When input is [29, 0, 24, 35, 0, 34, 35, 40], output is 0\n",
      "When input is [21], output is 32\n",
      "When input is [21, 32], output is 32\n",
      "When input is [21, 32, 32], output is 39\n",
      "When input is [21, 32, 32, 39], output is 0\n",
      "When input is [21, 32, 32, 39, 0], output is 21\n",
      "When input is [21, 32, 32, 39, 0, 21], output is 34\n",
      "When input is [21, 32, 32, 39, 0, 21, 34], output is 35\n",
      "When input is [21, 32, 32, 39, 0, 21, 34, 35], output is 40\n",
      "When input is [0], output is 21\n",
      "When input is [0, 21], output is 34\n",
      "When input is [0, 21, 34], output is 0\n",
      "When input is [0, 21, 34, 0], output is 35\n",
      "When input is [0, 21, 34, 0, 35], output is 26\n",
      "When input is [0, 21, 34, 0, 35, 26], output is 26\n",
      "When input is [0, 21, 34, 0, 35, 26, 26], output is 39\n",
      "When input is [0, 21, 34, 0, 35, 26, 26, 39], output is 28\n",
      "When input is [25], output is 39\n",
      "When input is [25, 39], output is 25\n",
      "When input is [25, 39, 25], output is 0\n",
      "When input is [25, 39, 25, 0], output is 38\n",
      "When input is [25, 39, 25, 0, 38], output is 21\n",
      "When input is [25, 39, 25, 0, 38, 21], output is 45\n",
      "When input is [25, 39, 25, 0, 38, 21, 45], output is 39\n",
      "When input is [25, 39, 25, 0, 38, 21, 45, 39], output is 0\n",
      "When input is [0], output is 39\n",
      "When input is [0, 39], output is 35\n",
      "When input is [0, 39, 35], output is 33\n",
      "When input is [0, 39, 35, 33], output is 25\n",
      "When input is [0, 39, 35, 33, 25], output is 40\n",
      "When input is [0, 39, 35, 33, 25, 40], output is 28\n",
      "When input is [0, 39, 35, 33, 25, 40, 28], output is 29\n",
      "When input is [0, 39, 35, 33, 25, 40, 28, 29], output is 34\n",
      "When input is [38], output is 29\n",
      "When input is [38, 29], output is 39\n",
      "When input is [38, 29, 39], output is 28\n",
      "When input is [38, 29, 39, 28], output is 25\n",
      "When input is [38, 29, 39, 28, 25], output is 24\n",
      "When input is [38, 29, 39, 28, 25, 24], output is 1\n",
      "When input is [38, 29, 39, 28, 25, 24, 1], output is 0\n",
      "When input is [38, 29, 39, 28, 25, 24, 1, 0], output is 21\n",
      "When input is [26], output is 0\n",
      "When input is [26, 0], output is 23\n",
      "When input is [26, 0, 23], output is 35\n",
      "When input is [26, 0, 23, 35], output is 41\n",
      "When input is [26, 0, 23, 35, 41], output is 38\n",
      "When input is [26, 0, 23, 35, 41, 38], output is 39\n",
      "When input is [26, 0, 23, 35, 41, 38, 39], output is 25\n",
      "When input is [26, 0, 23, 35, 41, 38, 39, 25], output is 0\n",
      "When input is [24], output is 35\n",
      "When input is [24, 35], output is 27\n",
      "When input is [24, 35, 27], output is 45\n",
      "When input is [24, 35, 27, 45], output is 21\n",
      "When input is [24, 35, 27, 45, 21], output is 0\n",
      "When input is [24, 35, 27, 45, 21, 0], output is 41\n",
      "When input is [24, 35, 27, 45, 21, 0, 41], output is 36\n",
      "When input is [24, 35, 27, 45, 21, 0, 41, 36], output is 21\n",
      "When input is [0], output is 40\n",
      "When input is [0, 40], output is 28\n",
      "When input is [0, 40, 28], output is 41\n",
      "When input is [0, 40, 28, 41], output is 39\n",
      "When input is [0, 40, 28, 41, 39], output is 0\n",
      "When input is [0, 40, 28, 41, 39, 0], output is 22\n",
      "When input is [0, 40, 28, 41, 39, 0, 22], output is 41\n",
      "When input is [0, 40, 28, 41, 39, 0, 22, 41], output is 38\n",
      "When input is [26], output is 38\n",
      "When input is [26, 38], output is 35\n",
      "When input is [26, 38, 35], output is 33\n",
      "When input is [26, 38, 35, 33], output is 0\n",
      "When input is [26, 38, 35, 33, 0], output is 28\n",
      "When input is [26, 38, 35, 33, 0, 28], output is 41\n",
      "When input is [26, 38, 35, 33, 0, 28, 41], output is 34\n",
      "When input is [26, 38, 35, 33, 0, 28, 41, 34], output is 27\n",
      "When input is [40], output is 0\n",
      "When input is [40, 0], output is 28\n",
      "When input is [40, 0, 28], output is 21\n",
      "When input is [40, 0, 28, 21], output is 39\n",
      "When input is [40, 0, 28, 21, 39], output is 0\n",
      "When input is [40, 0, 28, 21, 39, 0], output is 25\n",
      "When input is [40, 0, 28, 21, 39, 0, 25], output is 34\n",
      "When input is [40, 0, 28, 21, 39, 0, 25, 34], output is 40\n"
     ]
    }
   ],
   "source": [
    "x, y = get_batch(train)\n",
    "for i in range(batch_size):\n",
    "    for j in range(window_length):\n",
    "        print(f\"When input is {x[i,:j+1].tolist()}, output is {y[i,j]}\")"
   ]
  },
  {
   "cell_type": "code",
   "execution_count": 257,
   "metadata": {},
   "outputs": [],
   "source": [
    "class BigramModel(nn.Module):\n",
    "    def __init__(self, vocab_size):\n",
    "        super().__init__()\n",
    "        self.table = nn.Embedding(vocab_size, vocab_size)\n",
    "\n",
    "    def forward(self, x, y=None):\n",
    "        #shape of x and y is B, W\n",
    "        logits = self.table(x) #shape is B, W, E\n",
    "        if y is None:\n",
    "            loss = None\n",
    "        else:\n",
    "            B, W, E = logits.shape\n",
    "            loss = F.cross_entropy(logits.view(B*W, E), y.view(B*W))\n",
    "        return logits, loss\n",
    "    \n",
    "    def generate(self, x, length):\n",
    "        #x is a single character index\n",
    "        generated = []\n",
    "        for _ in range(length):\n",
    "            logits, loss = self(x) #logits is B,W,E\n",
    "            logits = logits[:, -1, :] #get the newly predicted word only.\n",
    "            probs = F.softmax(logits, dim=1)\n",
    "            idx = probs.multinomial(1)\n",
    "            generated.append(idx.item())\n",
    "        return generated"
   ]
  },
  {
   "cell_type": "code",
   "execution_count": 258,
   "metadata": {},
   "outputs": [],
   "source": [
    "model = BigramModel(vocab_size).to('cuda')"
   ]
  },
  {
   "cell_type": "code",
   "execution_count": 279,
   "metadata": {},
   "outputs": [
    {
     "name": "stdout",
     "output_type": "stream",
     "text": [
      "brahman is_tesa  dp,bpt s ah tp   aauetuo  kse hh —— cei  as \n"
     ]
    }
   ],
   "source": [
    "prompt = \"brahman is\"\n",
    "prompt_tensor = torch.tensor(encode(prompt), device='cuda').reshape(1,-1)\n",
    "generated = model.generate(prompt_tensor, 50)\n",
    "print(prompt + \"_\" + decode(generated))"
   ]
  },
  {
   "cell_type": "code",
   "execution_count": 269,
   "metadata": {},
   "outputs": [],
   "source": [
    "optimizer = torch.optim.AdamW(model.parameters(), lr=1e-5)\n",
    "losses = []\n",
    "n_epochs = 2000\n",
    "for i in range(n_epochs):\n",
    "    x, y = get_batch(\"train\")\n",
    "    logits, loss = model(x, y)\n",
    "    optimizer.zero_grad(set_to_none=True)\n",
    "    loss.backward()\n",
    "    optimizer.step()\n",
    "    losses.append(loss.item())    "
   ]
  },
  {
   "cell_type": "code",
   "execution_count": 270,
   "metadata": {},
   "outputs": [
    {
     "data": {
      "text/plain": [
       "[<matplotlib.lines.Line2D at 0x1ba5938ed00>]"
      ]
     },
     "execution_count": 270,
     "metadata": {},
     "output_type": "execute_result"
    },
    {
     "data": {
      "image/png": "[encoded data removed]",
      "text/plain": [
       "<Figure size 640x480 with 1 Axes>"
      ]
     },
     "metadata": {},
     "output_type": "display_data"
    }
   ],
   "source": [
    "plt.plot([np.mean(losses[i:i+20]) for i in range(0, len(losses), 20)])"
   ]
  },
  {
   "cell_type": "code",
   "execution_count": null,
   "metadata": {},
   "outputs": [],
   "source": []
  }
 ],
 "metadata": {
  "kernelspec": {
   "display_name": "base",
   "language": "python",
   "name": "python3"
  },
  "language_info": {
   "codemirror_mode": {
    "name": "ipython",
    "version": 3
   },
   "file_extension": ".py",
   "mimetype": "text/x-python",
   "name": "python",
   "nbconvert_exporter": "python",
   "pygments_lexer": "ipython3",
   "version": "3.9.13"
  }
 },
 "nbformat": 4,
 "nbformat_minor": 2
}
