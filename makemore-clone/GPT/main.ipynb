{
 "cells": [
  {
   "cell_type": "code",
   "execution_count": 1,
   "metadata": {},
   "outputs": [],
   "source": [
    "import matplotlib.pyplot as plt\n",
    "import numpy as np\n",
    "import torch\n",
    "import torch.nn as nn\n",
    "from torch.nn import functional as F"
   ]
  },
  {
   "cell_type": "code",
   "execution_count": 2,
   "metadata": {},
   "outputs": [],
   "source": [
    "with open(\"upanishads.txt\", \"r\") as f:\n",
    "    text = f.read()"
   ]
  },
  {
   "cell_type": "code",
   "execution_count": 3,
   "metadata": {},
   "outputs": [],
   "source": [
    "text = text.lower()"
   ]
  },
  {
   "cell_type": "code",
   "execution_count": 4,
   "metadata": {},
   "outputs": [
    {
     "name": "stdout",
     "output_type": "stream",
     "text": [
      "[32, 29, 36, 36, 39]\n",
      "hello\n"
     ]
    }
   ],
   "source": [
    "chars = sorted(list(set(text)))\n",
    "vocab_size = len(chars)\n",
    "itos = {i:c for i,c in enumerate(chars)}\n",
    "stoi = {c:i for i,c in enumerate(chars)}\n",
    "encode = lambda s : [stoi[c] for c in s]\n",
    "decode = lambda l : ''.join([itos[i] for i in l])\n",
    "\n",
    "print(encode(\"hello\"))\n",
    "print(decode([32, 29, 36, 36, 39]))"
   ]
  },
  {
   "cell_type": "code",
   "execution_count": 5,
   "metadata": {},
   "outputs": [],
   "source": [
    "data = torch.tensor(encode(text), dtype=torch.long, device='cuda')"
   ]
  },
  {
   "cell_type": "code",
   "execution_count": 6,
   "metadata": {},
   "outputs": [],
   "source": [
    "n = int(0.9*len(data))\n",
    "train, test = data[:n], data[n:]"
   ]
  },
  {
   "cell_type": "code",
   "execution_count": 7,
   "metadata": {},
   "outputs": [
    {
     "data": {
      "text/plain": [
       "(494921, 54992)"
      ]
     },
     "execution_count": 7,
     "metadata": {},
     "output_type": "execute_result"
    }
   ],
   "source": [
    "len(train), len(test)"
   ]
  },
  {
   "cell_type": "code",
   "execution_count": 8,
   "metadata": {},
   "outputs": [],
   "source": [
    "batch_size = 4\n",
    "window_length = 8\n",
    "\n",
    "def get_batch(split):\n",
    "    data = train if split == 'train' else test\n",
    "    ix = torch.randint(len(data) - window_length, (batch_size,))\n",
    "    x = torch.stack([data[i:i+window_length] for i in ix])\n",
    "    y = torch.stack([data[i+1:i+window_length+1] for i in ix])\n",
    "    return x, y"
   ]
  },
  {
   "cell_type": "code",
   "execution_count": 9,
   "metadata": {},
   "outputs": [
    {
     "name": "stdout",
     "output_type": "stream",
     "text": [
      "When input is [25], output is 43\n",
      "When input is [25, 43], output is 25\n",
      "When input is [25, 43, 25], output is 21\n",
      "When input is [25, 43, 25, 21], output is 3\n",
      "When input is [25, 43, 25, 21, 3], output is 1\n",
      "When input is [25, 43, 25, 21, 3, 1], output is 0\n",
      "When input is [25, 43, 25, 21, 3, 1, 0], output is 0\n",
      "When input is [25, 43, 25, 21, 3, 1, 0, 0], output is 3\n",
      "When input is [46], output is 29\n",
      "When input is [46, 29], output is 28\n",
      "When input is [46, 29, 28], output is 25\n",
      "When input is [46, 29, 28, 25], output is 43\n",
      "When input is [46, 29, 28, 25, 43], output is 8\n",
      "When input is [46, 29, 28, 25, 43, 8], output is 1\n",
      "When input is [46, 29, 28, 25, 43, 8, 1], output is 44\n",
      "When input is [46, 29, 28, 25, 43, 8, 1, 44], output is 32\n",
      "When input is [25], output is 38\n",
      "When input is [25, 38], output is 28\n",
      "When input is [25, 38, 28], output is 1\n",
      "When input is [25, 38, 28, 1], output is 47\n",
      "When input is [25, 38, 28, 1, 47], output is 32\n",
      "When input is [25, 38, 28, 1, 47, 32], output is 29\n",
      "When input is [25, 38, 28, 1, 47, 32, 29], output is 42\n",
      "When input is [25, 38, 28, 1, 47, 32, 29, 42], output is 29\n",
      "When input is [28], output is 1\n",
      "When input is [28, 1], output is 25\n",
      "When input is [28, 1, 25], output is 43\n",
      "When input is [28, 1, 25, 43], output is 35\n",
      "When input is [28, 1, 25, 43, 35], output is 19\n",
      "When input is [28, 1, 25, 43, 35, 19], output is 1\n",
      "When input is [28, 1, 25, 43, 35, 19, 1], output is 53\n",
      "When input is [28, 1, 25, 43, 35, 19, 1, 53], output is 28\n"
     ]
    }
   ],
   "source": [
    "x, y = get_batch(train)\n",
    "for i in range(batch_size):\n",
    "    for j in range(window_length):\n",
    "        print(f\"When input is {x[i,:j+1].tolist()}, output is {y[i,j]}\")"
   ]
  },
  {
   "cell_type": "code",
   "execution_count": 21,
   "metadata": {},
   "outputs": [],
   "source": [
    "class BigramModel(nn.Module):\n",
    "    def __init__(self, vocab_size):\n",
    "        super().__init__()\n",
    "        self.table = nn.Embedding(vocab_size, vocab_size)\n",
    "\n",
    "    def forward(self, x, y=None):\n",
    "        #shape of x and y is B, W\n",
    "        logits = self.table(x) #shape is B, W, E\n",
    "        if y is None:\n",
    "            loss = None\n",
    "        else:\n",
    "            B, W, E = logits.shape\n",
    "            loss = F.cross_entropy(logits.view(B*W, E), y.view(B*W))\n",
    "        return logits, loss\n",
    "    \n",
    "    def generate(self, x, length):\n",
    "        #x is a single character index\n",
    "        generated = []\n",
    "        for _ in range(length):\n",
    "            logits, loss = self(x) #logits is B,W,E\n",
    "            logits = logits[:, -1, :] #get the newly predicted word only.\n",
    "            probs = F.softmax(logits, dim=1)\n",
    "            idx = probs.multinomial(1)\n",
    "            generated.append(idx.item())\n",
    "        return generated"
   ]
  },
  {
   "cell_type": "code",
   "execution_count": 22,
   "metadata": {},
   "outputs": [],
   "source": [
    "model = BigramModel(vocab_size).to('cuda')"
   ]
  },
  {
   "cell_type": "code",
   "execution_count": 23,
   "metadata": {},
   "outputs": [
    {
     "data": {
      "text/plain": [
       "'\"\"n,jvrxjjjjd(\\n65a“jxx7ljp n“b xqjdjz\\\\8h6“jjmje“— '"
      ]
     },
     "execution_count": 23,
     "metadata": {},
     "output_type": "execute_result"
    }
   ],
   "source": [
    "prompt = \"banana i\"\n",
    "prompt = torch.tensor(encode(prompt), device='cuda').reshape(1,-1)\n",
    "generated = model.generate(prompt, 50)\n",
    "decode(generated)"
   ]
  },
  {
   "cell_type": "code",
   "execution_count": 24,
   "metadata": {},
   "outputs": [
    {
     "ename": "AttributeError",
     "evalue": "'SGD' object has no attribute 'to'",
     "output_type": "error",
     "traceback": [
      "\u001b[1;31m---------------------------------------------------------------------------\u001b[0m",
      "\u001b[1;31mAttributeError\u001b[0m                            Traceback (most recent call last)",
      "\u001b[1;32m~\\AppData\\Local\\Temp\\ipykernel_11196\\4004153302.py\u001b[0m in \u001b[0;36m<module>\u001b[1;34m\u001b[0m\n\u001b[1;32m----> 1\u001b[1;33m \u001b[0moptimizer\u001b[0m \u001b[1;33m=\u001b[0m \u001b[0mtorch\u001b[0m\u001b[1;33m.\u001b[0m\u001b[0moptim\u001b[0m\u001b[1;33m.\u001b[0m\u001b[0mSGD\u001b[0m\u001b[1;33m(\u001b[0m\u001b[0mmodel\u001b[0m\u001b[1;33m.\u001b[0m\u001b[0mparameters\u001b[0m\u001b[1;33m(\u001b[0m\u001b[1;33m)\u001b[0m\u001b[1;33m,\u001b[0m \u001b[0mlr\u001b[0m\u001b[1;33m=\u001b[0m\u001b[1;36m0.00001\u001b[0m\u001b[1;33m,\u001b[0m \u001b[0mmomentum\u001b[0m\u001b[1;33m=\u001b[0m\u001b[1;36m0.9\u001b[0m\u001b[1;33m)\u001b[0m\u001b[1;33m.\u001b[0m\u001b[0mto\u001b[0m\u001b[1;33m(\u001b[0m\u001b[1;34m'cuda'\u001b[0m\u001b[1;33m)\u001b[0m\u001b[1;33m\u001b[0m\u001b[1;33m\u001b[0m\u001b[0m\n\u001b[0m\u001b[0;32m      2\u001b[0m \u001b[0mlosses\u001b[0m \u001b[1;33m=\u001b[0m \u001b[1;33m[\u001b[0m\u001b[1;33m]\u001b[0m\u001b[1;33m\u001b[0m\u001b[1;33m\u001b[0m\u001b[0m\n\u001b[0;32m      3\u001b[0m \u001b[0mn_epochs\u001b[0m \u001b[1;33m=\u001b[0m \u001b[1;36m100000\u001b[0m\u001b[1;33m\u001b[0m\u001b[1;33m\u001b[0m\u001b[0m\n\u001b[0;32m      4\u001b[0m \u001b[1;32mfor\u001b[0m \u001b[0mi\u001b[0m \u001b[1;32min\u001b[0m \u001b[0mrange\u001b[0m\u001b[1;33m(\u001b[0m\u001b[0mn_epochs\u001b[0m\u001b[1;33m)\u001b[0m\u001b[1;33m:\u001b[0m\u001b[1;33m\u001b[0m\u001b[1;33m\u001b[0m\u001b[0m\n\u001b[0;32m      5\u001b[0m     \u001b[0mx\u001b[0m\u001b[1;33m,\u001b[0m \u001b[0my\u001b[0m \u001b[1;33m=\u001b[0m \u001b[0mget_batch\u001b[0m\u001b[1;33m(\u001b[0m\u001b[1;34m\"train\"\u001b[0m\u001b[1;33m)\u001b[0m\u001b[1;33m\u001b[0m\u001b[1;33m\u001b[0m\u001b[0m\n",
      "\u001b[1;31mAttributeError\u001b[0m: 'SGD' object has no attribute 'to'"
     ]
    }
   ],
   "source": [
    "optimizer = torch.optim.SGD(model.parameters(), lr=0.00001, momentum=0.9)\n",
    "losses = []\n",
    "n_epochs = 100000\n",
    "for i in range(n_epochs):\n",
    "    x, y = get_batch(\"train\")\n",
    "    logits, loss = model(x, y)\n",
    "    loss.backward()\n",
    "    optimizer.step()\n",
    "    losses.append(loss.item())    "
   ]
  },
  {
   "cell_type": "code",
   "execution_count": 148,
   "metadata": {},
   "outputs": [
    {
     "data": {
      "text/plain": [
       "[<matplotlib.lines.Line2D at 0x17c56462160>]"
      ]
     },
     "execution_count": 148,
     "metadata": {},
     "output_type": "execute_result"
    },
    {
     "data": {
      "image/png": "[encoded data removed]",
      "text/plain": [
       "<Figure size 640x480 with 1 Axes>"
      ]
     },
     "metadata": {},
     "output_type": "display_data"
    }
   ],
   "source": [
    "plt.plot(losses)"
   ]
  },
  {
   "cell_type": "code",
   "execution_count": null,
   "metadata": {},
   "outputs": [],
   "source": []
  }
 ],
 "metadata": {
  "kernelspec": {
   "display_name": "base",
   "language": "python",
   "name": "python3"
  },
  "language_info": {
   "codemirror_mode": {
    "name": "ipython",
    "version": 3
   },
   "file_extension": ".py",
   "mimetype": "text/x-python",
   "name": "python",
   "nbconvert_exporter": "python",
   "pygments_lexer": "ipython3",
   "version": "3.9.13"
  }
 },
 "nbformat": 4,
 "nbformat_minor": 2
}
